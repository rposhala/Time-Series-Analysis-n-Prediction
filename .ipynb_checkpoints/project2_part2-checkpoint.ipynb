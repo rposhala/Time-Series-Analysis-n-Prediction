{
 "cells": [
  {
   "cell_type": "code",
   "execution_count": 143,
   "metadata": {
    "colab": {},
    "colab_type": "code",
    "id": "LOM_vPt3XMwE"
   },
   "outputs": [],
   "source": [
    "import pandas as pd\n",
    "import numpy as np\n",
    "import matplotlib.pyplot as plt"
   ]
  },
  {
   "cell_type": "markdown",
   "metadata": {
    "colab_type": "text",
    "id": "A5ROoRW4eZ29"
   },
   "source": [
    "# Part 3: Deep learning time series forecasting methods"
   ]
  },
  {
   "cell_type": "markdown",
   "metadata": {
    "colab_type": "text",
    "id": "7nyFklU0ejIx"
   },
   "source": [
    "## Loading the dataset"
   ]
  },
  {
   "cell_type": "code",
   "execution_count": 144,
   "metadata": {
    "colab": {},
    "colab_type": "code",
    "id": "2qFkFuOkXRvb"
   },
   "outputs": [],
   "source": [
    "data = pd.read_csv('AAPL.csv')[::-1]\n",
    "data = data.loc[:, 'Close'].tolist()"
   ]
  },
  {
   "cell_type": "code",
   "execution_count": 145,
   "metadata": {
    "colab": {},
    "colab_type": "code",
    "id": "cu4ITdBKXTj6"
   },
   "outputs": [],
   "source": [
    "def shuffle_in_unison(a, b):\n",
    "    assert len(a) == len(b)\n",
    "    shuffled_a = np.empty(a.shape, dtype=a.dtype)\n",
    "    shuffled_b = np.empty(b.shape, dtype=b.dtype)\n",
    "    permutation = np.random.permutation(len(a))\n",
    "    for old_index, new_index in enumerate(permutation):\n",
    "        shuffled_a[new_index] = a[old_index]\n",
    "        shuffled_b[new_index] = b[old_index]\n",
    "    return shuffled_a, shuffled_b"
   ]
  },
  {
   "cell_type": "code",
   "execution_count": 146,
   "metadata": {
    "colab": {},
    "colab_type": "code",
    "id": "akZQqpiqYebF"
   },
   "outputs": [],
   "source": [
    "def create_Xt_Yt(X, y, percentage=0.8):\n",
    "    p = int(len(X) * percentage)\n",
    "    X_train = X[0:p]\n",
    "    Y_train = Y[0:p]\n",
    "    \n",
    "    X_train, Y_train = shuffle_in_unison(X_train, Y_train)\n",
    "    \n",
    "    X_test = X[p:]\n",
    "    Y_test = y[p:]\n",
    "    \n",
    "    return X_train, X_test, Y_train, Y_test"
   ]
  },
  {
   "cell_type": "markdown",
   "metadata": {
    "colab_type": "text",
    "id": "VaLf6OcWetox"
   },
   "source": [
    "## Splitting data into train and test."
   ]
  },
  {
   "cell_type": "code",
   "execution_count": 147,
   "metadata": {
    "colab": {},
    "colab_type": "code",
    "id": "a0eUeqxsYfv7"
   },
   "outputs": [],
   "source": [
    "WINDOW = 30\n",
    "EMB_SIZE = 1\n",
    "STEP = 1\n",
    "FORECAST = 5"
   ]
  },
  {
   "cell_type": "code",
   "execution_count": 148,
   "metadata": {
    "colab": {
     "base_uri": "https://localhost:8080/",
     "height": 34
    },
    "colab_type": "code",
    "id": "_lqtKjgUYhrz",
    "outputId": "660cc9ed-841e-45c8-8e34-3fe8269a51d2"
   },
   "outputs": [
    {
     "name": "stdout",
     "output_type": "stream",
     "text": [
      "list index out of range\n"
     ]
    }
   ],
   "source": [
    "X, Y = [], []\n",
    "\n",
    "for i in range(0, len(data), STEP):\n",
    "    try:\n",
    "        x_i = data[i:i+WINDOW]\n",
    "        y_i = data[i+WINDOW+FORECAST]\n",
    "        \n",
    "        last_close = x_i[WINDOW-1]\n",
    "        next_close = y_i\n",
    "        \n",
    "        if last_close < next_close:\n",
    "            y_i = [1, 0]\n",
    "        else: \n",
    "            y_i = [0, 1]\n",
    "            \n",
    "    except Exception as e:\n",
    "        print(e)\n",
    "        break\n",
    "        \n",
    "    X.append(x_i)\n",
    "    Y.append(y_i)\n",
    "X = [(np.array(x) - np.mean(x)) / np.std(x) for x in X]\n",
    "X, Y = np.array(X), np.array(Y)\n",
    "\n",
    "X_train, X_test, Y_train, Y_test = create_Xt_Yt(X, Y)"
   ]
  },
  {
   "cell_type": "code",
   "execution_count": 171,
   "metadata": {
    "colab": {
     "base_uri": "https://localhost:8080/",
     "height": 85
    },
    "colab_type": "code",
    "id": "pvBPbXndYjcB",
    "outputId": "a08e0517-b749-4242-a36c-cd97e5de34ee"
   },
   "outputs": [
    {
     "name": "stdout",
     "output_type": "stream",
     "text": [
      "Shape of X_train:  (3996, 30, 1)\n",
      "Shape of X_test:  (1000, 30, 1)\n",
      "Shape of Y_train:  (3996, 2)\n",
      "Shape of Y_test:  (1000, 2)\n"
     ]
    }
   ],
   "source": [
    "print(\"Shape of X_train: \",X_train.shape)\n",
    "print(\"Shape of X_test: \",X_test.shape)\n",
    "print(\"Shape of Y_train: \",Y_train.shape)\n",
    "print(\"Shape of Y_test: \",Y_test.shape)"
   ]
  },
  {
   "cell_type": "markdown",
   "metadata": {
    "colab_type": "text",
    "id": "b65us9hiikM8"
   },
   "source": [
    "## Loading libraries"
   ]
  },
  {
   "cell_type": "code",
   "execution_count": 167,
   "metadata": {
    "colab": {},
    "colab_type": "code",
    "id": "WG3ySLXKy-54"
   },
   "outputs": [],
   "source": [
    "import tensorflow as tf\n",
    "from tensorflow.keras.models import Sequential\n",
    "from tensorflow.keras.layers import Dense, Activation, Flatten\n",
    "from tensorflow.keras.layers import BatchNormalization, LeakyReLU\n",
    "from tensorflow.keras.callbacks import ReduceLROnPlateau\n",
    "from tensorflow.keras.optimizers import Adam\n",
    "from tensorflow.keras import regularizers\n",
    "from tensorflow.keras.layers import Dropout, LSTM\n",
    "from tensorflow.keras.optimizers import RMSprop\n",
    "from time import time"
   ]
  },
  {
   "cell_type": "markdown",
   "metadata": {
    "colab_type": "text",
    "id": "JlVU_xCWio0F"
   },
   "source": [
    "## 1. Applying MLP to predict the increase or decrease of closing stock price value.  \n",
    "## 3. Along with Accuracy and Loss graphs"
   ]
  },
  {
   "cell_type": "markdown",
   "metadata": {
    "colab_type": "text",
    "id": "0h-Lj9Zwi1_J"
   },
   "source": [
    "a)Type 1: Basic MLP Layer with a hidden dense layer of 64 units. Adam Optimizer and Softmax activation for output."
   ]
  },
  {
   "cell_type": "code",
   "execution_count": 151,
   "metadata": {
    "colab": {},
    "colab_type": "code",
    "id": "-NDBYLWNYogJ"
   },
   "outputs": [],
   "source": [
    "model = Sequential()\n",
    "model.add(Dense(64, input_dim=30))#, kernel_initializer='uniform', bias_initializer='ones')) #zeros, ones, uniform\n",
    "model.add(BatchNormalization())\n",
    "model.add(LeakyReLU())\n",
    "model.add(Dense(2))\n",
    "model.add(Activation('softmax'))\n",
    "\n",
    "optimizer = Adam()"
   ]
  },
  {
   "cell_type": "code",
   "execution_count": 152,
   "metadata": {
    "colab": {},
    "colab_type": "code",
    "id": "DZPMUdUJYs2u"
   },
   "outputs": [],
   "source": [
    "reduce_lr = ReduceLROnPlateau(monitor='val_loss', factor=0.9, patience=5, min_lr=0.000001, verbose=1)\n",
    "model.compile(optimizer=optimizer,\n",
    "              loss='categorical_crossentropy',\n",
    "              metrics=['accuracy'])"
   ]
  },
  {
   "cell_type": "code",
   "execution_count": 153,
   "metadata": {
    "colab": {
     "base_uri": "https://localhost:8080/",
     "height": 1000
    },
    "colab_type": "code",
    "id": "ejNGt2AbYuuo",
    "outputId": "1f82732c-0626-4147-e9f1-aa1d9053b374"
   },
   "outputs": [
    {
     "name": "stdout",
     "output_type": "stream",
     "text": [
      "Epoch 1/150\n",
      "32/32 [==============================] - 0s 6ms/step - loss: 0.7367 - accuracy: 0.5433 - val_loss: 0.7577 - val_accuracy: 0.4880 - lr: 0.0010\n",
      "Epoch 2/150\n",
      "32/32 [==============================] - 0s 3ms/step - loss: 0.6961 - accuracy: 0.5708 - val_loss: 0.7324 - val_accuracy: 0.5000 - lr: 0.0010\n",
      "Epoch 3/150\n",
      "32/32 [==============================] - 0s 3ms/step - loss: 0.6860 - accuracy: 0.5803 - val_loss: 0.7209 - val_accuracy: 0.5270 - lr: 0.0010\n",
      "Epoch 4/150\n",
      "32/32 [==============================] - 0s 3ms/step - loss: 0.6796 - accuracy: 0.5868 - val_loss: 0.7217 - val_accuracy: 0.5200 - lr: 0.0010\n",
      "Epoch 5/150\n",
      "32/32 [==============================] - 0s 3ms/step - loss: 0.6741 - accuracy: 0.5901 - val_loss: 0.7234 - val_accuracy: 0.5130 - lr: 0.0010\n",
      "Epoch 6/150\n",
      "32/32 [==============================] - 0s 3ms/step - loss: 0.6749 - accuracy: 0.5908 - val_loss: 0.7339 - val_accuracy: 0.5010 - lr: 0.0010\n",
      "Epoch 7/150\n",
      "32/32 [==============================] - 0s 3ms/step - loss: 0.6714 - accuracy: 0.5968 - val_loss: 0.7164 - val_accuracy: 0.5100 - lr: 0.0010\n",
      "Epoch 8/150\n",
      "32/32 [==============================] - 0s 3ms/step - loss: 0.6691 - accuracy: 0.5998 - val_loss: 0.7155 - val_accuracy: 0.5220 - lr: 0.0010\n",
      "Epoch 9/150\n",
      "32/32 [==============================] - 0s 3ms/step - loss: 0.6688 - accuracy: 0.6014 - val_loss: 0.7234 - val_accuracy: 0.5000 - lr: 0.0010\n",
      "Epoch 10/150\n",
      "32/32 [==============================] - 0s 3ms/step - loss: 0.6676 - accuracy: 0.5991 - val_loss: 0.7131 - val_accuracy: 0.5290 - lr: 0.0010\n",
      "Epoch 11/150\n",
      "32/32 [==============================] - 0s 3ms/step - loss: 0.6640 - accuracy: 0.6021 - val_loss: 0.7186 - val_accuracy: 0.4930 - lr: 0.0010\n",
      "Epoch 12/150\n",
      "32/32 [==============================] - 0s 3ms/step - loss: 0.6662 - accuracy: 0.5993 - val_loss: 0.7156 - val_accuracy: 0.5150 - lr: 0.0010\n",
      "Epoch 13/150\n",
      "32/32 [==============================] - 0s 3ms/step - loss: 0.6633 - accuracy: 0.5998 - val_loss: 0.7119 - val_accuracy: 0.5140 - lr: 0.0010\n",
      "Epoch 14/150\n",
      "32/32 [==============================] - 0s 3ms/step - loss: 0.6618 - accuracy: 0.6081 - val_loss: 0.7206 - val_accuracy: 0.5010 - lr: 0.0010\n",
      "Epoch 15/150\n",
      "32/32 [==============================] - 0s 2ms/step - loss: 0.6596 - accuracy: 0.6104 - val_loss: 0.7260 - val_accuracy: 0.5130 - lr: 0.0010\n",
      "Epoch 16/150\n",
      "32/32 [==============================] - 0s 3ms/step - loss: 0.6605 - accuracy: 0.6096 - val_loss: 0.7207 - val_accuracy: 0.5150 - lr: 0.0010\n",
      "Epoch 17/150\n",
      "32/32 [==============================] - 0s 3ms/step - loss: 0.6603 - accuracy: 0.6101 - val_loss: 0.7108 - val_accuracy: 0.5270 - lr: 0.0010\n",
      "Epoch 18/150\n",
      "32/32 [==============================] - 0s 3ms/step - loss: 0.6598 - accuracy: 0.6079 - val_loss: 0.7181 - val_accuracy: 0.5040 - lr: 0.0010\n",
      "Epoch 19/150\n",
      "32/32 [==============================] - 0s 3ms/step - loss: 0.6586 - accuracy: 0.6114 - val_loss: 0.7232 - val_accuracy: 0.4960 - lr: 0.0010\n",
      "Epoch 20/150\n",
      "32/32 [==============================] - 0s 3ms/step - loss: 0.6569 - accuracy: 0.6119 - val_loss: 0.7239 - val_accuracy: 0.5070 - lr: 0.0010\n",
      "Epoch 21/150\n",
      "32/32 [==============================] - 0s 2ms/step - loss: 0.6611 - accuracy: 0.6059 - val_loss: 0.7207 - val_accuracy: 0.5190 - lr: 0.0010\n",
      "Epoch 22/150\n",
      " 1/32 [..............................] - ETA: 0s - loss: 0.6664 - accuracy: 0.6094\n",
      "Epoch 00022: ReduceLROnPlateau reducing learning rate to 0.0009000000427477062.\n",
      "32/32 [==============================] - 0s 3ms/step - loss: 0.6566 - accuracy: 0.6134 - val_loss: 0.7274 - val_accuracy: 0.5040 - lr: 0.0010\n",
      "Epoch 23/150\n",
      "32/32 [==============================] - 0s 2ms/step - loss: 0.6575 - accuracy: 0.6136 - val_loss: 0.7176 - val_accuracy: 0.5130 - lr: 9.0000e-04\n",
      "Epoch 24/150\n",
      "32/32 [==============================] - 0s 3ms/step - loss: 0.6560 - accuracy: 0.6131 - val_loss: 0.7138 - val_accuracy: 0.5090 - lr: 9.0000e-04\n",
      "Epoch 25/150\n",
      "32/32 [==============================] - 0s 3ms/step - loss: 0.6551 - accuracy: 0.6126 - val_loss: 0.7141 - val_accuracy: 0.5050 - lr: 9.0000e-04\n",
      "Epoch 26/150\n",
      "32/32 [==============================] - 0s 2ms/step - loss: 0.6558 - accuracy: 0.6064 - val_loss: 0.7184 - val_accuracy: 0.5040 - lr: 9.0000e-04\n",
      "Epoch 27/150\n",
      "32/32 [==============================] - 0s 3ms/step - loss: 0.6537 - accuracy: 0.6161 - val_loss: 0.7094 - val_accuracy: 0.5030 - lr: 9.0000e-04\n",
      "Epoch 28/150\n",
      "32/32 [==============================] - 0s 2ms/step - loss: 0.6541 - accuracy: 0.6144 - val_loss: 0.7176 - val_accuracy: 0.5110 - lr: 9.0000e-04\n",
      "Epoch 29/150\n",
      "32/32 [==============================] - 0s 2ms/step - loss: 0.6544 - accuracy: 0.6104 - val_loss: 0.7120 - val_accuracy: 0.5210 - lr: 9.0000e-04\n",
      "Epoch 30/150\n",
      "32/32 [==============================] - 0s 3ms/step - loss: 0.6511 - accuracy: 0.6154 - val_loss: 0.7141 - val_accuracy: 0.5190 - lr: 9.0000e-04\n",
      "Epoch 31/150\n",
      "32/32 [==============================] - 0s 3ms/step - loss: 0.6536 - accuracy: 0.6121 - val_loss: 0.7185 - val_accuracy: 0.5000 - lr: 9.0000e-04\n",
      "Epoch 32/150\n",
      "32/32 [==============================] - 0s 2ms/step - loss: 0.6518 - accuracy: 0.6164 - val_loss: 0.7082 - val_accuracy: 0.5230 - lr: 9.0000e-04\n",
      "Epoch 33/150\n",
      "32/32 [==============================] - 0s 2ms/step - loss: 0.6509 - accuracy: 0.6166 - val_loss: 0.7141 - val_accuracy: 0.5200 - lr: 9.0000e-04\n",
      "Epoch 34/150\n",
      "32/32 [==============================] - 0s 2ms/step - loss: 0.6513 - accuracy: 0.6126 - val_loss: 0.7243 - val_accuracy: 0.4970 - lr: 9.0000e-04\n",
      "Epoch 35/150\n",
      "32/32 [==============================] - 0s 2ms/step - loss: 0.6506 - accuracy: 0.6149 - val_loss: 0.7218 - val_accuracy: 0.5160 - lr: 9.0000e-04\n",
      "Epoch 36/150\n",
      "32/32 [==============================] - 0s 3ms/step - loss: 0.6510 - accuracy: 0.6194 - val_loss: 0.7183 - val_accuracy: 0.5270 - lr: 9.0000e-04\n",
      "Epoch 37/150\n",
      " 1/32 [..............................] - ETA: 0s - loss: 0.6564 - accuracy: 0.6250\n",
      "Epoch 00037: ReduceLROnPlateau reducing learning rate to 0.0008100000384729356.\n",
      "32/32 [==============================] - 0s 2ms/step - loss: 0.6500 - accuracy: 0.6121 - val_loss: 0.7311 - val_accuracy: 0.5120 - lr: 9.0000e-04\n",
      "Epoch 38/150\n",
      "32/32 [==============================] - 0s 3ms/step - loss: 0.6507 - accuracy: 0.6216 - val_loss: 0.7230 - val_accuracy: 0.5120 - lr: 8.1000e-04\n",
      "Epoch 39/150\n",
      "32/32 [==============================] - 0s 2ms/step - loss: 0.6477 - accuracy: 0.6154 - val_loss: 0.7138 - val_accuracy: 0.5080 - lr: 8.1000e-04\n",
      "Epoch 40/150\n",
      "32/32 [==============================] - 0s 2ms/step - loss: 0.6472 - accuracy: 0.6204 - val_loss: 0.7271 - val_accuracy: 0.5030 - lr: 8.1000e-04\n",
      "Epoch 41/150\n",
      "32/32 [==============================] - 0s 3ms/step - loss: 0.6453 - accuracy: 0.6241 - val_loss: 0.7271 - val_accuracy: 0.4990 - lr: 8.1000e-04\n",
      "Epoch 42/150\n",
      " 1/32 [..............................] - ETA: 0s - loss: 0.6644 - accuracy: 0.5781\n",
      "Epoch 00042: ReduceLROnPlateau reducing learning rate to 0.0007290000503417104.\n",
      "32/32 [==============================] - 0s 2ms/step - loss: 0.6475 - accuracy: 0.6209 - val_loss: 0.7255 - val_accuracy: 0.5100 - lr: 8.1000e-04\n",
      "Epoch 43/150\n",
      "32/32 [==============================] - 0s 3ms/step - loss: 0.6448 - accuracy: 0.6274 - val_loss: 0.7159 - val_accuracy: 0.5180 - lr: 7.2900e-04\n",
      "Epoch 44/150\n",
      "32/32 [==============================] - 0s 2ms/step - loss: 0.6443 - accuracy: 0.6229 - val_loss: 0.7210 - val_accuracy: 0.5130 - lr: 7.2900e-04\n",
      "Epoch 45/150\n",
      "32/32 [==============================] - 0s 2ms/step - loss: 0.6459 - accuracy: 0.6251 - val_loss: 0.7144 - val_accuracy: 0.5290 - lr: 7.2900e-04\n",
      "Epoch 46/150\n",
      "32/32 [==============================] - 0s 2ms/step - loss: 0.6451 - accuracy: 0.6229 - val_loss: 0.7186 - val_accuracy: 0.5080 - lr: 7.2900e-04\n",
      "Epoch 47/150\n",
      " 1/32 [..............................] - ETA: 0s - loss: 0.6016 - accuracy: 0.6953\n",
      "Epoch 00047: ReduceLROnPlateau reducing learning rate to 0.0006561000715009868.\n",
      "32/32 [==============================] - 0s 2ms/step - loss: 0.6448 - accuracy: 0.6249 - val_loss: 0.7132 - val_accuracy: 0.5070 - lr: 7.2900e-04\n",
      "Epoch 48/150\n",
      "32/32 [==============================] - 0s 2ms/step - loss: 0.6432 - accuracy: 0.6279 - val_loss: 0.7165 - val_accuracy: 0.5120 - lr: 6.5610e-04\n",
      "Epoch 49/150\n",
      "32/32 [==============================] - 0s 2ms/step - loss: 0.6423 - accuracy: 0.6294 - val_loss: 0.7145 - val_accuracy: 0.5210 - lr: 6.5610e-04\n",
      "Epoch 50/150\n",
      "32/32 [==============================] - 0s 3ms/step - loss: 0.6413 - accuracy: 0.6289 - val_loss: 0.7138 - val_accuracy: 0.5110 - lr: 6.5610e-04\n",
      "Epoch 51/150\n",
      "32/32 [==============================] - 0s 2ms/step - loss: 0.6430 - accuracy: 0.6284 - val_loss: 0.7135 - val_accuracy: 0.5180 - lr: 6.5610e-04\n",
      "Epoch 52/150\n",
      " 1/32 [..............................] - ETA: 0s - loss: 0.5937 - accuracy: 0.7188\n",
      "Epoch 00052: ReduceLROnPlateau reducing learning rate to 0.0005904900433961303.\n",
      "32/32 [==============================] - 0s 2ms/step - loss: 0.6395 - accuracy: 0.6299 - val_loss: 0.7081 - val_accuracy: 0.5190 - lr: 6.5610e-04\n",
      "Epoch 53/150\n",
      "32/32 [==============================] - 0s 3ms/step - loss: 0.6396 - accuracy: 0.6349 - val_loss: 0.7084 - val_accuracy: 0.5280 - lr: 5.9049e-04\n",
      "Epoch 54/150\n",
      "32/32 [==============================] - 0s 3ms/step - loss: 0.6402 - accuracy: 0.6326 - val_loss: 0.7095 - val_accuracy: 0.5240 - lr: 5.9049e-04\n",
      "Epoch 55/150\n",
      "32/32 [==============================] - 0s 2ms/step - loss: 0.6402 - accuracy: 0.6246 - val_loss: 0.7132 - val_accuracy: 0.5190 - lr: 5.9049e-04\n",
      "Epoch 56/150\n",
      "32/32 [==============================] - 0s 2ms/step - loss: 0.6406 - accuracy: 0.6316 - val_loss: 0.7100 - val_accuracy: 0.5200 - lr: 5.9049e-04\n",
      "Epoch 57/150\n",
      " 1/32 [..............................] - ETA: 0s - loss: 0.6401 - accuracy: 0.6484\n",
      "Epoch 00057: ReduceLROnPlateau reducing learning rate to 0.0005314410547725857.\n",
      "32/32 [==============================] - 0s 2ms/step - loss: 0.6375 - accuracy: 0.6324 - val_loss: 0.7139 - val_accuracy: 0.5120 - lr: 5.9049e-04\n",
      "Epoch 58/150\n",
      "32/32 [==============================] - 0s 3ms/step - loss: 0.6379 - accuracy: 0.6339 - val_loss: 0.7169 - val_accuracy: 0.5250 - lr: 5.3144e-04\n",
      "Epoch 59/150\n",
      "32/32 [==============================] - 0s 2ms/step - loss: 0.6370 - accuracy: 0.6271 - val_loss: 0.7095 - val_accuracy: 0.5190 - lr: 5.3144e-04\n",
      "Epoch 60/150\n",
      "32/32 [==============================] - 0s 3ms/step - loss: 0.6375 - accuracy: 0.6419 - val_loss: 0.7179 - val_accuracy: 0.5250 - lr: 5.3144e-04\n",
      "Epoch 61/150\n",
      "32/32 [==============================] - 0s 2ms/step - loss: 0.6352 - accuracy: 0.6399 - val_loss: 0.7059 - val_accuracy: 0.5300 - lr: 5.3144e-04\n",
      "Epoch 62/150\n",
      "32/32 [==============================] - 0s 2ms/step - loss: 0.6372 - accuracy: 0.6441 - val_loss: 0.7047 - val_accuracy: 0.5360 - lr: 5.3144e-04\n",
      "Epoch 63/150\n",
      "32/32 [==============================] - 0s 2ms/step - loss: 0.6382 - accuracy: 0.6301 - val_loss: 0.7163 - val_accuracy: 0.5260 - lr: 5.3144e-04\n",
      "Epoch 64/150\n",
      "32/32 [==============================] - 0s 3ms/step - loss: 0.6365 - accuracy: 0.6366 - val_loss: 0.7118 - val_accuracy: 0.5240 - lr: 5.3144e-04\n",
      "Epoch 65/150\n",
      "32/32 [==============================] - 0s 3ms/step - loss: 0.6340 - accuracy: 0.6394 - val_loss: 0.7106 - val_accuracy: 0.5330 - lr: 5.3144e-04\n",
      "Epoch 66/150\n",
      "32/32 [==============================] - 0s 2ms/step - loss: 0.6351 - accuracy: 0.6396 - val_loss: 0.7106 - val_accuracy: 0.5240 - lr: 5.3144e-04\n",
      "Epoch 67/150\n",
      " 1/32 [..............................] - ETA: 0s - loss: 0.6805 - accuracy: 0.5781\n",
      "Epoch 00067: ReduceLROnPlateau reducing learning rate to 0.00047829695977270604.\n",
      "32/32 [==============================] - 0s 3ms/step - loss: 0.6325 - accuracy: 0.6416 - val_loss: 0.7304 - val_accuracy: 0.5150 - lr: 5.3144e-04\n",
      "Epoch 68/150\n",
      "32/32 [==============================] - 0s 3ms/step - loss: 0.6336 - accuracy: 0.6426 - val_loss: 0.7117 - val_accuracy: 0.5200 - lr: 4.7830e-04\n",
      "Epoch 69/150\n",
      "32/32 [==============================] - 0s 3ms/step - loss: 0.6328 - accuracy: 0.6414 - val_loss: 0.7107 - val_accuracy: 0.5290 - lr: 4.7830e-04\n",
      "Epoch 70/150\n",
      "32/32 [==============================] - 0s 2ms/step - loss: 0.6334 - accuracy: 0.6406 - val_loss: 0.7257 - val_accuracy: 0.5140 - lr: 4.7830e-04\n",
      "Epoch 71/150\n",
      "32/32 [==============================] - 0s 2ms/step - loss: 0.6347 - accuracy: 0.6479 - val_loss: 0.7174 - val_accuracy: 0.5240 - lr: 4.7830e-04\n",
      "Epoch 72/150\n",
      " 1/32 [..............................] - ETA: 0s - loss: 0.6388 - accuracy: 0.6484\n",
      "Epoch 00072: ReduceLROnPlateau reducing learning rate to 0.0004304672533180565.\n",
      "32/32 [==============================] - 0s 2ms/step - loss: 0.6308 - accuracy: 0.6416 - val_loss: 0.7101 - val_accuracy: 0.5250 - lr: 4.7830e-04\n",
      "Epoch 73/150\n",
      "32/32 [==============================] - 0s 2ms/step - loss: 0.6335 - accuracy: 0.6406 - val_loss: 0.7122 - val_accuracy: 0.5190 - lr: 4.3047e-04\n",
      "Epoch 74/150\n",
      "32/32 [==============================] - 0s 2ms/step - loss: 0.6311 - accuracy: 0.6426 - val_loss: 0.7086 - val_accuracy: 0.5350 - lr: 4.3047e-04\n",
      "Epoch 75/150\n",
      "32/32 [==============================] - 0s 2ms/step - loss: 0.6309 - accuracy: 0.6464 - val_loss: 0.7204 - val_accuracy: 0.5140 - lr: 4.3047e-04\n",
      "Epoch 76/150\n",
      "32/32 [==============================] - 0s 3ms/step - loss: 0.6289 - accuracy: 0.6431 - val_loss: 0.7222 - val_accuracy: 0.5190 - lr: 4.3047e-04\n",
      "Epoch 77/150\n",
      " 1/32 [..............................] - ETA: 0s - loss: 0.6373 - accuracy: 0.6172\n",
      "Epoch 00077: ReduceLROnPlateau reducing learning rate to 0.00038742052274756136.\n",
      "32/32 [==============================] - 0s 3ms/step - loss: 0.6289 - accuracy: 0.6469 - val_loss: 0.7212 - val_accuracy: 0.5250 - lr: 4.3047e-04\n",
      "Epoch 78/150\n",
      "32/32 [==============================] - 0s 3ms/step - loss: 0.6286 - accuracy: 0.6464 - val_loss: 0.7060 - val_accuracy: 0.5340 - lr: 3.8742e-04\n",
      "Epoch 79/150\n",
      "32/32 [==============================] - 0s 3ms/step - loss: 0.6284 - accuracy: 0.6446 - val_loss: 0.7257 - val_accuracy: 0.5160 - lr: 3.8742e-04\n",
      "Epoch 80/150\n",
      "32/32 [==============================] - 0s 2ms/step - loss: 0.6281 - accuracy: 0.6419 - val_loss: 0.7099 - val_accuracy: 0.5340 - lr: 3.8742e-04\n",
      "Epoch 81/150\n",
      "32/32 [==============================] - 0s 3ms/step - loss: 0.6285 - accuracy: 0.6434 - val_loss: 0.7132 - val_accuracy: 0.5260 - lr: 3.8742e-04\n",
      "Epoch 82/150\n",
      " 1/32 [..............................] - ETA: 0s - loss: 0.6452 - accuracy: 0.5938\n",
      "Epoch 00082: ReduceLROnPlateau reducing learning rate to 0.0003486784757114947.\n",
      "32/32 [==============================] - 0s 3ms/step - loss: 0.6268 - accuracy: 0.6486 - val_loss: 0.7175 - val_accuracy: 0.5230 - lr: 3.8742e-04\n",
      "Epoch 83/150\n",
      "32/32 [==============================] - 0s 3ms/step - loss: 0.6274 - accuracy: 0.6444 - val_loss: 0.7152 - val_accuracy: 0.5310 - lr: 3.4868e-04\n",
      "Epoch 84/150\n",
      "32/32 [==============================] - 0s 2ms/step - loss: 0.6303 - accuracy: 0.6461 - val_loss: 0.7210 - val_accuracy: 0.5220 - lr: 3.4868e-04\n",
      "Epoch 85/150\n",
      "32/32 [==============================] - 0s 2ms/step - loss: 0.6274 - accuracy: 0.6441 - val_loss: 0.7241 - val_accuracy: 0.5270 - lr: 3.4868e-04\n",
      "Epoch 86/150\n",
      "32/32 [==============================] - 0s 2ms/step - loss: 0.6278 - accuracy: 0.6421 - val_loss: 0.7136 - val_accuracy: 0.5250 - lr: 3.4868e-04\n",
      "Epoch 87/150\n",
      " 1/32 [..............................] - ETA: 0s - loss: 0.6088 - accuracy: 0.6094\n",
      "Epoch 00087: ReduceLROnPlateau reducing learning rate to 0.00031381062290165574.\n",
      "32/32 [==============================] - 0s 3ms/step - loss: 0.6278 - accuracy: 0.6524 - val_loss: 0.7171 - val_accuracy: 0.5270 - lr: 3.4868e-04\n",
      "Epoch 88/150\n",
      "32/32 [==============================] - 0s 3ms/step - loss: 0.6257 - accuracy: 0.6496 - val_loss: 0.7189 - val_accuracy: 0.5230 - lr: 3.1381e-04\n",
      "Epoch 89/150\n",
      "32/32 [==============================] - 0s 3ms/step - loss: 0.6280 - accuracy: 0.6502 - val_loss: 0.7112 - val_accuracy: 0.5290 - lr: 3.1381e-04\n",
      "Epoch 90/150\n",
      "32/32 [==============================] - 0s 3ms/step - loss: 0.6255 - accuracy: 0.6514 - val_loss: 0.7099 - val_accuracy: 0.5300 - lr: 3.1381e-04\n",
      "Epoch 91/150\n",
      "32/32 [==============================] - 0s 3ms/step - loss: 0.6257 - accuracy: 0.6496 - val_loss: 0.7154 - val_accuracy: 0.5290 - lr: 3.1381e-04\n",
      "Epoch 92/150\n",
      " 1/32 [..............................] - ETA: 0s - loss: 0.6254 - accuracy: 0.6641\n",
      "Epoch 00092: ReduceLROnPlateau reducing learning rate to 0.0002824295632308349.\n",
      "32/32 [==============================] - 0s 3ms/step - loss: 0.6254 - accuracy: 0.6504 - val_loss: 0.7213 - val_accuracy: 0.5270 - lr: 3.1381e-04\n",
      "Epoch 93/150\n",
      "32/32 [==============================] - 0s 2ms/step - loss: 0.6266 - accuracy: 0.6539 - val_loss: 0.7098 - val_accuracy: 0.5270 - lr: 2.8243e-04\n",
      "Epoch 94/150\n",
      "32/32 [==============================] - 0s 3ms/step - loss: 0.6246 - accuracy: 0.6496 - val_loss: 0.7170 - val_accuracy: 0.5220 - lr: 2.8243e-04\n",
      "Epoch 95/150\n",
      "32/32 [==============================] - 0s 2ms/step - loss: 0.6254 - accuracy: 0.6509 - val_loss: 0.7154 - val_accuracy: 0.5230 - lr: 2.8243e-04\n",
      "Epoch 96/150\n",
      "32/32 [==============================] - 0s 2ms/step - loss: 0.6257 - accuracy: 0.6489 - val_loss: 0.7136 - val_accuracy: 0.5280 - lr: 2.8243e-04\n",
      "Epoch 97/150\n",
      " 1/32 [..............................] - ETA: 0s - loss: 0.6387 - accuracy: 0.6328\n",
      "Epoch 00097: ReduceLROnPlateau reducing learning rate to 0.00025418660952709616.\n",
      "32/32 [==============================] - 0s 3ms/step - loss: 0.6241 - accuracy: 0.6519 - val_loss: 0.7127 - val_accuracy: 0.5310 - lr: 2.8243e-04\n",
      "Epoch 98/150\n",
      "32/32 [==============================] - 0s 3ms/step - loss: 0.6233 - accuracy: 0.6504 - val_loss: 0.7123 - val_accuracy: 0.5320 - lr: 2.5419e-04\n",
      "Epoch 99/150\n",
      "32/32 [==============================] - 0s 3ms/step - loss: 0.6235 - accuracy: 0.6534 - val_loss: 0.7113 - val_accuracy: 0.5280 - lr: 2.5419e-04\n",
      "Epoch 100/150\n",
      "32/32 [==============================] - 0s 2ms/step - loss: 0.6230 - accuracy: 0.6587 - val_loss: 0.7094 - val_accuracy: 0.5330 - lr: 2.5419e-04\n",
      "Epoch 101/150\n",
      "32/32 [==============================] - 0s 2ms/step - loss: 0.6242 - accuracy: 0.6489 - val_loss: 0.7096 - val_accuracy: 0.5320 - lr: 2.5419e-04\n",
      "Epoch 102/150\n",
      " 1/32 [..............................] - ETA: 0s - loss: 0.6281 - accuracy: 0.6719\n",
      "Epoch 00102: ReduceLROnPlateau reducing learning rate to 0.00022876793809700757.\n",
      "32/32 [==============================] - 0s 3ms/step - loss: 0.6231 - accuracy: 0.6544 - val_loss: 0.7243 - val_accuracy: 0.5300 - lr: 2.5419e-04\n",
      "Epoch 103/150\n",
      "32/32 [==============================] - 0s 2ms/step - loss: 0.6220 - accuracy: 0.6537 - val_loss: 0.7127 - val_accuracy: 0.5330 - lr: 2.2877e-04\n",
      "Epoch 104/150\n",
      "32/32 [==============================] - 0s 3ms/step - loss: 0.6231 - accuracy: 0.6504 - val_loss: 0.7142 - val_accuracy: 0.5270 - lr: 2.2877e-04\n",
      "Epoch 105/150\n",
      "32/32 [==============================] - 0s 3ms/step - loss: 0.6233 - accuracy: 0.6444 - val_loss: 0.7157 - val_accuracy: 0.5260 - lr: 2.2877e-04\n",
      "Epoch 106/150\n",
      "32/32 [==============================] - 0s 3ms/step - loss: 0.6211 - accuracy: 0.6547 - val_loss: 0.7234 - val_accuracy: 0.5330 - lr: 2.2877e-04\n",
      "Epoch 107/150\n",
      "24/32 [=====================>........] - ETA: 0s - loss: 0.6224 - accuracy: 0.6527\n",
      "Epoch 00107: ReduceLROnPlateau reducing learning rate to 0.00020589114428730683.\n",
      "32/32 [==============================] - 0s 3ms/step - loss: 0.6209 - accuracy: 0.6557 - val_loss: 0.7169 - val_accuracy: 0.5270 - lr: 2.2877e-04\n",
      "Epoch 108/150\n",
      "32/32 [==============================] - 0s 2ms/step - loss: 0.6196 - accuracy: 0.6557 - val_loss: 0.7189 - val_accuracy: 0.5340 - lr: 2.0589e-04\n",
      "Epoch 109/150\n",
      "32/32 [==============================] - 0s 3ms/step - loss: 0.6225 - accuracy: 0.6519 - val_loss: 0.7105 - val_accuracy: 0.5290 - lr: 2.0589e-04\n",
      "Epoch 110/150\n",
      "32/32 [==============================] - 0s 2ms/step - loss: 0.6223 - accuracy: 0.6534 - val_loss: 0.7129 - val_accuracy: 0.5360 - lr: 2.0589e-04\n",
      "Epoch 111/150\n",
      "32/32 [==============================] - 0s 3ms/step - loss: 0.6218 - accuracy: 0.6544 - val_loss: 0.7156 - val_accuracy: 0.5340 - lr: 2.0589e-04\n",
      "Epoch 112/150\n",
      " 1/32 [..............................] - ETA: 0s - loss: 0.6404 - accuracy: 0.6250\n",
      "Epoch 00112: ReduceLROnPlateau reducing learning rate to 0.00018530203378759326.\n",
      "32/32 [==============================] - 0s 2ms/step - loss: 0.6212 - accuracy: 0.6557 - val_loss: 0.7220 - val_accuracy: 0.5280 - lr: 2.0589e-04\n",
      "Epoch 113/150\n",
      "32/32 [==============================] - 0s 2ms/step - loss: 0.6200 - accuracy: 0.6529 - val_loss: 0.7167 - val_accuracy: 0.5290 - lr: 1.8530e-04\n",
      "Epoch 114/150\n",
      "32/32 [==============================] - 0s 3ms/step - loss: 0.6214 - accuracy: 0.6509 - val_loss: 0.7163 - val_accuracy: 0.5310 - lr: 1.8530e-04\n",
      "Epoch 115/150\n",
      "32/32 [==============================] - 0s 3ms/step - loss: 0.6213 - accuracy: 0.6486 - val_loss: 0.7162 - val_accuracy: 0.5280 - lr: 1.8530e-04\n",
      "Epoch 116/150\n",
      "32/32 [==============================] - 0s 3ms/step - loss: 0.6220 - accuracy: 0.6509 - val_loss: 0.7226 - val_accuracy: 0.5270 - lr: 1.8530e-04\n",
      "Epoch 117/150\n",
      " 1/32 [..............................] - ETA: 0s - loss: 0.6484 - accuracy: 0.5547\n",
      "Epoch 00117: ReduceLROnPlateau reducing learning rate to 0.00016677183302817866.\n",
      "32/32 [==============================] - 0s 2ms/step - loss: 0.6194 - accuracy: 0.6499 - val_loss: 0.7197 - val_accuracy: 0.5280 - lr: 1.8530e-04\n",
      "Epoch 118/150\n",
      "32/32 [==============================] - 0s 2ms/step - loss: 0.6201 - accuracy: 0.6524 - val_loss: 0.7147 - val_accuracy: 0.5280 - lr: 1.6677e-04\n",
      "Epoch 119/150\n",
      "32/32 [==============================] - 0s 3ms/step - loss: 0.6186 - accuracy: 0.6554 - val_loss: 0.7174 - val_accuracy: 0.5320 - lr: 1.6677e-04\n",
      "Epoch 120/150\n",
      "32/32 [==============================] - 0s 2ms/step - loss: 0.6204 - accuracy: 0.6589 - val_loss: 0.7170 - val_accuracy: 0.5270 - lr: 1.6677e-04\n",
      "Epoch 121/150\n",
      "32/32 [==============================] - 0s 2ms/step - loss: 0.6192 - accuracy: 0.6519 - val_loss: 0.7129 - val_accuracy: 0.5330 - lr: 1.6677e-04\n",
      "Epoch 122/150\n",
      " 1/32 [..............................] - ETA: 0s - loss: 0.6216 - accuracy: 0.6328\n",
      "Epoch 00122: ReduceLROnPlateau reducing learning rate to 0.00015009464841568844.\n",
      "32/32 [==============================] - 0s 3ms/step - loss: 0.6199 - accuracy: 0.6554 - val_loss: 0.7228 - val_accuracy: 0.5290 - lr: 1.6677e-04\n",
      "Epoch 123/150\n",
      "32/32 [==============================] - 0s 3ms/step - loss: 0.6183 - accuracy: 0.6599 - val_loss: 0.7166 - val_accuracy: 0.5320 - lr: 1.5009e-04\n",
      "Epoch 124/150\n",
      "32/32 [==============================] - 0s 3ms/step - loss: 0.6191 - accuracy: 0.6532 - val_loss: 0.7143 - val_accuracy: 0.5340 - lr: 1.5009e-04\n",
      "Epoch 125/150\n",
      "32/32 [==============================] - 0s 3ms/step - loss: 0.6182 - accuracy: 0.6542 - val_loss: 0.7187 - val_accuracy: 0.5270 - lr: 1.5009e-04\n",
      "Epoch 126/150\n",
      "32/32 [==============================] - 0s 2ms/step - loss: 0.6169 - accuracy: 0.6562 - val_loss: 0.7133 - val_accuracy: 0.5360 - lr: 1.5009e-04\n",
      "Epoch 127/150\n",
      " 1/32 [..............................] - ETA: 0s - loss: 0.6108 - accuracy: 0.6797\n",
      "Epoch 00127: ReduceLROnPlateau reducing learning rate to 0.0001350851875031367.\n",
      "32/32 [==============================] - 0s 2ms/step - loss: 0.6178 - accuracy: 0.6604 - val_loss: 0.7205 - val_accuracy: 0.5290 - lr: 1.5009e-04\n",
      "Epoch 128/150\n",
      "32/32 [==============================] - 0s 3ms/step - loss: 0.6174 - accuracy: 0.6619 - val_loss: 0.7144 - val_accuracy: 0.5290 - lr: 1.3509e-04\n",
      "Epoch 129/150\n",
      "32/32 [==============================] - 0s 3ms/step - loss: 0.6182 - accuracy: 0.6564 - val_loss: 0.7210 - val_accuracy: 0.5300 - lr: 1.3509e-04\n",
      "Epoch 130/150\n",
      "32/32 [==============================] - 0s 2ms/step - loss: 0.6169 - accuracy: 0.6624 - val_loss: 0.7157 - val_accuracy: 0.5310 - lr: 1.3509e-04\n",
      "Epoch 131/150\n",
      "32/32 [==============================] - 0s 2ms/step - loss: 0.6177 - accuracy: 0.6554 - val_loss: 0.7162 - val_accuracy: 0.5310 - lr: 1.3509e-04\n",
      "Epoch 132/150\n",
      " 1/32 [..............................] - ETA: 0s - loss: 0.6254 - accuracy: 0.6094\n",
      "Epoch 00132: ReduceLROnPlateau reducing learning rate to 0.00012157666351413355.\n",
      "32/32 [==============================] - 0s 2ms/step - loss: 0.6164 - accuracy: 0.6584 - val_loss: 0.7175 - val_accuracy: 0.5350 - lr: 1.3509e-04\n",
      "Epoch 133/150\n",
      "32/32 [==============================] - 0s 3ms/step - loss: 0.6189 - accuracy: 0.6609 - val_loss: 0.7137 - val_accuracy: 0.5350 - lr: 1.2158e-04\n",
      "Epoch 134/150\n",
      "32/32 [==============================] - 0s 3ms/step - loss: 0.6161 - accuracy: 0.6627 - val_loss: 0.7178 - val_accuracy: 0.5280 - lr: 1.2158e-04\n",
      "Epoch 135/150\n",
      "32/32 [==============================] - 0s 3ms/step - loss: 0.6170 - accuracy: 0.6564 - val_loss: 0.7178 - val_accuracy: 0.5310 - lr: 1.2158e-04\n",
      "Epoch 136/150\n",
      "32/32 [==============================] - 0s 3ms/step - loss: 0.6186 - accuracy: 0.6544 - val_loss: 0.7151 - val_accuracy: 0.5280 - lr: 1.2158e-04\n",
      "Epoch 137/150\n",
      " 1/32 [..............................] - ETA: 0s - loss: 0.6581 - accuracy: 0.6016\n",
      "Epoch 00137: ReduceLROnPlateau reducing learning rate to 0.00010941899454337544.\n",
      "32/32 [==============================] - 0s 2ms/step - loss: 0.6172 - accuracy: 0.6624 - val_loss: 0.7165 - val_accuracy: 0.5330 - lr: 1.2158e-04\n",
      "Epoch 138/150\n",
      "32/32 [==============================] - 0s 3ms/step - loss: 0.6178 - accuracy: 0.6614 - val_loss: 0.7158 - val_accuracy: 0.5330 - lr: 1.0942e-04\n",
      "Epoch 139/150\n",
      "32/32 [==============================] - 0s 2ms/step - loss: 0.6168 - accuracy: 0.6599 - val_loss: 0.7161 - val_accuracy: 0.5250 - lr: 1.0942e-04\n",
      "Epoch 140/150\n",
      "32/32 [==============================] - 0s 3ms/step - loss: 0.6166 - accuracy: 0.6612 - val_loss: 0.7182 - val_accuracy: 0.5330 - lr: 1.0942e-04\n",
      "Epoch 141/150\n",
      "32/32 [==============================] - 0s 2ms/step - loss: 0.6157 - accuracy: 0.6582 - val_loss: 0.7169 - val_accuracy: 0.5350 - lr: 1.0942e-04\n",
      "Epoch 142/150\n",
      " 1/32 [..............................] - ETA: 0s - loss: 0.6486 - accuracy: 0.6328\n",
      "Epoch 00142: ReduceLROnPlateau reducing learning rate to 9.847709443420172e-05.\n",
      "32/32 [==============================] - 0s 3ms/step - loss: 0.6158 - accuracy: 0.6599 - val_loss: 0.7192 - val_accuracy: 0.5300 - lr: 1.0942e-04\n",
      "Epoch 143/150\n",
      "32/32 [==============================] - 0s 2ms/step - loss: 0.6162 - accuracy: 0.6647 - val_loss: 0.7164 - val_accuracy: 0.5370 - lr: 9.8477e-05\n",
      "Epoch 144/150\n",
      "32/32 [==============================] - 0s 3ms/step - loss: 0.6141 - accuracy: 0.6607 - val_loss: 0.7189 - val_accuracy: 0.5320 - lr: 9.8477e-05\n",
      "Epoch 145/150\n",
      "32/32 [==============================] - 0s 3ms/step - loss: 0.6170 - accuracy: 0.6559 - val_loss: 0.7173 - val_accuracy: 0.5330 - lr: 9.8477e-05\n",
      "Epoch 146/150\n",
      "32/32 [==============================] - 0s 3ms/step - loss: 0.6156 - accuracy: 0.6597 - val_loss: 0.7173 - val_accuracy: 0.5330 - lr: 9.8477e-05\n",
      "Epoch 147/150\n",
      " 1/32 [..............................] - ETA: 0s - loss: 0.6334 - accuracy: 0.6484\n",
      "Epoch 00147: ReduceLROnPlateau reducing learning rate to 8.862938630045391e-05.\n",
      "32/32 [==============================] - 0s 2ms/step - loss: 0.6165 - accuracy: 0.6627 - val_loss: 0.7186 - val_accuracy: 0.5370 - lr: 9.8477e-05\n",
      "Epoch 148/150\n",
      "32/32 [==============================] - 0s 3ms/step - loss: 0.6154 - accuracy: 0.6674 - val_loss: 0.7191 - val_accuracy: 0.5300 - lr: 8.8629e-05\n",
      "Epoch 149/150\n",
      "32/32 [==============================] - 0s 3ms/step - loss: 0.6158 - accuracy: 0.6672 - val_loss: 0.7169 - val_accuracy: 0.5320 - lr: 8.8629e-05\n",
      "Epoch 150/150\n",
      "32/32 [==============================] - 0s 3ms/step - loss: 0.6154 - accuracy: 0.6672 - val_loss: 0.7171 - val_accuracy: 0.5370 - lr: 8.8629e-05\n"
     ]
    }
   ],
   "source": [
    "history = model.fit(X_train, Y_train,\n",
    "                   epochs =150,\n",
    "                   batch_size=128,\n",
    "                   verbose=1,\n",
    "                   validation_data=(X_test, Y_test),\n",
    "                   shuffle=True,\n",
    "                   callbacks=[reduce_lr])"
   ]
  },
  {
   "cell_type": "code",
   "execution_count": 154,
   "metadata": {
    "colab": {
     "base_uri": "https://localhost:8080/",
     "height": 312
    },
    "colab_type": "code",
    "id": "Xnatg6tZYz5b",
    "outputId": "f089a89e-9a99-4895-91f0-bdf1f3062773"
   },
   "outputs": [
    {
     "data": {
      "text/plain": [
       "<matplotlib.legend.Legend at 0x7f6c65399470>"
      ]
     },
     "execution_count": 154,
     "metadata": {
      "tags": []
     },
     "output_type": "execute_result"
    },
    {
     "data": {
      "image/png": "[encoded data removed]",
      "text/plain": [
       "<Figure size 432x288 with 1 Axes>"
      ]
     },
     "metadata": {
      "needs_background": "light",
      "tags": []
     },
     "output_type": "display_data"
    }
   ],
   "source": [
    "import matplotlib.pyplot as plt\n",
    "%matplotlib inline\n",
    "\n",
    "plt.figure()\n",
    "plt.plot(history.history['loss'])\n",
    "plt.plot(history.history['val_loss'])\n",
    "plt.title('model loss')\n",
    "plt.ylabel('loss')\n",
    "plt.xlabel('epoch')\n",
    "plt.legend(['train', 'test'], loc='best')"
   ]
  },
  {
   "cell_type": "code",
   "execution_count": 155,
   "metadata": {
    "colab": {
     "base_uri": "https://localhost:8080/",
     "height": 312
    },
    "colab_type": "code",
    "id": "sYf-PNfvY_F7",
    "outputId": "17f584de-b63f-4a6b-af02-3c7cac2bfee5"
   },
   "outputs": [
    {
     "data": {
      "text/plain": [
       "<matplotlib.legend.Legend at 0x7f6c659b1c18>"
      ]
     },
     "execution_count": 155,
     "metadata": {
      "tags": []
     },
     "output_type": "execute_result"
    },
    {
     "data": {
      "image/png": "[encoded data removed]",
      "text/plain": [
       "<Figure size 432x288 with 1 Axes>"
      ]
     },
     "metadata": {
      "needs_background": "light",
      "tags": []
     },
     "output_type": "display_data"
    }
   ],
   "source": [
    "plt.figure()\n",
    "plt.plot(history.history['accuracy'])\n",
    "plt.plot(history.history['val_accuracy'])\n",
    "plt.title('model accuracy')\n",
    "plt.ylabel('acc')\n",
    "plt.xlabel('epoch')\n",
    "plt.legend(['train', 'test'], loc='best')"
   ]
  },
  {
   "cell_type": "markdown",
   "metadata": {
    "colab_type": "text",
    "id": "RYuBhLbfjz20"
   },
   "source": [
    "From the above Model Accuracy graph, we can observe that the train accuracy went upto 67.5 and test accuracy fluctuated around 50 to 53."
   ]
  },
  {
   "cell_type": "markdown",
   "metadata": {
    "colab_type": "text",
    "id": "8412WD6Smh-C"
   },
   "source": [
    "----"
   ]
  },
  {
   "cell_type": "markdown",
   "metadata": {
    "colab_type": "text",
    "id": "JzFwgsGTmJou"
   },
   "source": [
    "b)Type 2: MLP Layer with a 2 hidden dense layers. Adam Optimizer and Softmax activation for output. Number of hidden layers of the MLP are increased to allow the model to perform better by training it little more deeper."
   ]
  },
  {
   "cell_type": "code",
   "execution_count": 157,
   "metadata": {
    "colab": {
     "base_uri": "https://localhost:8080/",
     "height": 1000
    },
    "colab_type": "code",
    "id": "HPtbO358ZUei",
    "outputId": "d5928bd6-d540-4ed9-f54e-7fcf07327dbb"
   },
   "outputs": [
    {
     "name": "stdout",
     "output_type": "stream",
     "text": [
      "Epoch 1/100\n",
      "63/63 [==============================] - 0s 4ms/step - loss: 0.7434 - accuracy: 0.5178 - val_loss: 0.7237 - val_accuracy: 0.4910 - lr: 0.0010\n",
      "Epoch 2/100\n",
      "63/63 [==============================] - 0s 2ms/step - loss: 0.6787 - accuracy: 0.5811 - val_loss: 0.7214 - val_accuracy: 0.4990 - lr: 0.0010\n",
      "Epoch 3/100\n",
      "63/63 [==============================] - 0s 2ms/step - loss: 0.6688 - accuracy: 0.5941 - val_loss: 0.7252 - val_accuracy: 0.5070 - lr: 0.0010\n",
      "Epoch 4/100\n",
      "63/63 [==============================] - 0s 2ms/step - loss: 0.6675 - accuracy: 0.5961 - val_loss: 0.7099 - val_accuracy: 0.5160 - lr: 0.0010\n",
      "Epoch 5/100\n",
      "63/63 [==============================] - 0s 2ms/step - loss: 0.6655 - accuracy: 0.5993 - val_loss: 0.7213 - val_accuracy: 0.5060 - lr: 0.0010\n",
      "Epoch 6/100\n",
      "63/63 [==============================] - 0s 2ms/step - loss: 0.6634 - accuracy: 0.6054 - val_loss: 0.7174 - val_accuracy: 0.5200 - lr: 0.0010\n",
      "Epoch 7/100\n",
      "63/63 [==============================] - 0s 2ms/step - loss: 0.6603 - accuracy: 0.6061 - val_loss: 0.7169 - val_accuracy: 0.5140 - lr: 0.0010\n",
      "Epoch 8/100\n",
      "63/63 [==============================] - 0s 2ms/step - loss: 0.6609 - accuracy: 0.6031 - val_loss: 0.7149 - val_accuracy: 0.5090 - lr: 0.0010\n",
      "Epoch 9/100\n",
      "36/63 [================>.............] - ETA: 0s - loss: 0.6557 - accuracy: 0.6081\n",
      "Epoch 00009: ReduceLROnPlateau reducing learning rate to 0.0009000000427477062.\n",
      "63/63 [==============================] - 0s 2ms/step - loss: 0.6583 - accuracy: 0.6081 - val_loss: 0.7158 - val_accuracy: 0.4970 - lr: 0.0010\n",
      "Epoch 10/100\n",
      "63/63 [==============================] - 0s 2ms/step - loss: 0.6576 - accuracy: 0.6141 - val_loss: 0.7096 - val_accuracy: 0.5210 - lr: 9.0000e-04\n",
      "Epoch 11/100\n",
      "63/63 [==============================] - 0s 2ms/step - loss: 0.6539 - accuracy: 0.6114 - val_loss: 0.7181 - val_accuracy: 0.5200 - lr: 9.0000e-04\n",
      "Epoch 12/100\n",
      "63/63 [==============================] - 0s 2ms/step - loss: 0.6538 - accuracy: 0.6126 - val_loss: 0.7162 - val_accuracy: 0.5000 - lr: 9.0000e-04\n",
      "Epoch 13/100\n",
      "63/63 [==============================] - 0s 2ms/step - loss: 0.6540 - accuracy: 0.6141 - val_loss: 0.7148 - val_accuracy: 0.5050 - lr: 9.0000e-04\n",
      "Epoch 14/100\n",
      "63/63 [==============================] - 0s 2ms/step - loss: 0.6519 - accuracy: 0.6181 - val_loss: 0.7178 - val_accuracy: 0.5070 - lr: 9.0000e-04\n",
      "Epoch 15/100\n",
      "36/63 [================>.............] - ETA: 0s - loss: 0.6447 - accuracy: 0.6233\n",
      "Epoch 00015: ReduceLROnPlateau reducing learning rate to 0.0008100000384729356.\n",
      "63/63 [==============================] - 0s 2ms/step - loss: 0.6508 - accuracy: 0.6131 - val_loss: 0.7153 - val_accuracy: 0.5020 - lr: 9.0000e-04\n",
      "Epoch 16/100\n",
      "63/63 [==============================] - 0s 2ms/step - loss: 0.6491 - accuracy: 0.6206 - val_loss: 0.7146 - val_accuracy: 0.5070 - lr: 8.1000e-04\n",
      "Epoch 17/100\n",
      "63/63 [==============================] - 0s 2ms/step - loss: 0.6487 - accuracy: 0.6241 - val_loss: 0.7239 - val_accuracy: 0.5050 - lr: 8.1000e-04\n",
      "Epoch 18/100\n",
      "63/63 [==============================] - 0s 2ms/step - loss: 0.6493 - accuracy: 0.6196 - val_loss: 0.7229 - val_accuracy: 0.5070 - lr: 8.1000e-04\n",
      "Epoch 19/100\n",
      "63/63 [==============================] - 0s 2ms/step - loss: 0.6461 - accuracy: 0.6199 - val_loss: 0.7235 - val_accuracy: 0.5140 - lr: 8.1000e-04\n",
      "Epoch 20/100\n",
      "34/63 [===============>..............] - ETA: 0s - loss: 0.6468 - accuracy: 0.6264\n",
      "Epoch 00020: ReduceLROnPlateau reducing learning rate to 0.0007290000503417104.\n",
      "63/63 [==============================] - 0s 2ms/step - loss: 0.6442 - accuracy: 0.6289 - val_loss: 0.7225 - val_accuracy: 0.5040 - lr: 8.1000e-04\n",
      "Epoch 21/100\n",
      "63/63 [==============================] - 0s 2ms/step - loss: 0.6429 - accuracy: 0.6306 - val_loss: 0.7261 - val_accuracy: 0.5040 - lr: 7.2900e-04\n",
      "Epoch 22/100\n",
      "63/63 [==============================] - 0s 2ms/step - loss: 0.6401 - accuracy: 0.6326 - val_loss: 0.7197 - val_accuracy: 0.5130 - lr: 7.2900e-04\n",
      "Epoch 23/100\n",
      "63/63 [==============================] - 0s 2ms/step - loss: 0.6386 - accuracy: 0.6349 - val_loss: 0.7163 - val_accuracy: 0.5070 - lr: 7.2900e-04\n",
      "Epoch 24/100\n",
      "63/63 [==============================] - 0s 2ms/step - loss: 0.6401 - accuracy: 0.6314 - val_loss: 0.7318 - val_accuracy: 0.4970 - lr: 7.2900e-04\n",
      "Epoch 25/100\n",
      "34/63 [===============>..............] - ETA: 0s - loss: 0.6326 - accuracy: 0.6475\n",
      "Epoch 00025: ReduceLROnPlateau reducing learning rate to 0.0006561000715009868.\n",
      "63/63 [==============================] - 0s 2ms/step - loss: 0.6351 - accuracy: 0.6406 - val_loss: 0.7280 - val_accuracy: 0.5000 - lr: 7.2900e-04\n",
      "Epoch 26/100\n",
      "63/63 [==============================] - 0s 2ms/step - loss: 0.6331 - accuracy: 0.6399 - val_loss: 0.7255 - val_accuracy: 0.5150 - lr: 6.5610e-04\n",
      "Epoch 27/100\n",
      "63/63 [==============================] - 0s 2ms/step - loss: 0.6375 - accuracy: 0.6339 - val_loss: 0.7240 - val_accuracy: 0.5120 - lr: 6.5610e-04\n",
      "Epoch 28/100\n",
      "63/63 [==============================] - 0s 2ms/step - loss: 0.6319 - accuracy: 0.6381 - val_loss: 0.7314 - val_accuracy: 0.4940 - lr: 6.5610e-04\n",
      "Epoch 29/100\n",
      "63/63 [==============================] - 0s 2ms/step - loss: 0.6293 - accuracy: 0.6451 - val_loss: 0.7402 - val_accuracy: 0.5140 - lr: 6.5610e-04\n",
      "Epoch 30/100\n",
      "63/63 [==============================] - ETA: 0s - loss: 0.6313 - accuracy: 0.6446\n",
      "Epoch 00030: ReduceLROnPlateau reducing learning rate to 0.0005904900433961303.\n",
      "63/63 [==============================] - 0s 2ms/step - loss: 0.6313 - accuracy: 0.6446 - val_loss: 0.7252 - val_accuracy: 0.5160 - lr: 6.5610e-04\n",
      "Epoch 31/100\n",
      "63/63 [==============================] - 0s 2ms/step - loss: 0.6256 - accuracy: 0.6504 - val_loss: 0.7246 - val_accuracy: 0.5090 - lr: 5.9049e-04\n",
      "Epoch 32/100\n",
      "63/63 [==============================] - 0s 2ms/step - loss: 0.6252 - accuracy: 0.6514 - val_loss: 0.7328 - val_accuracy: 0.5160 - lr: 5.9049e-04\n",
      "Epoch 33/100\n",
      "63/63 [==============================] - 0s 2ms/step - loss: 0.6239 - accuracy: 0.6494 - val_loss: 0.7283 - val_accuracy: 0.5060 - lr: 5.9049e-04\n",
      "Epoch 34/100\n",
      "63/63 [==============================] - 0s 2ms/step - loss: 0.6243 - accuracy: 0.6444 - val_loss: 0.7286 - val_accuracy: 0.5170 - lr: 5.9049e-04\n",
      "Epoch 35/100\n",
      "37/63 [================>.............] - ETA: 0s - loss: 0.6258 - accuracy: 0.6512\n",
      "Epoch 00035: ReduceLROnPlateau reducing learning rate to 0.0005314410547725857.\n",
      "63/63 [==============================] - 0s 2ms/step - loss: 0.6233 - accuracy: 0.6547 - val_loss: 0.7353 - val_accuracy: 0.4990 - lr: 5.9049e-04\n",
      "Epoch 36/100\n",
      "63/63 [==============================] - 0s 2ms/step - loss: 0.6222 - accuracy: 0.6476 - val_loss: 0.7370 - val_accuracy: 0.5170 - lr: 5.3144e-04\n",
      "Epoch 37/100\n",
      "63/63 [==============================] - 0s 2ms/step - loss: 0.6178 - accuracy: 0.6604 - val_loss: 0.7345 - val_accuracy: 0.5150 - lr: 5.3144e-04\n",
      "Epoch 38/100\n",
      "63/63 [==============================] - 0s 2ms/step - loss: 0.6194 - accuracy: 0.6589 - val_loss: 0.7500 - val_accuracy: 0.5180 - lr: 5.3144e-04\n",
      "Epoch 39/100\n",
      "63/63 [==============================] - 0s 2ms/step - loss: 0.6138 - accuracy: 0.6654 - val_loss: 0.7478 - val_accuracy: 0.5140 - lr: 5.3144e-04\n",
      "Epoch 40/100\n",
      "63/63 [==============================] - ETA: 0s - loss: 0.6136 - accuracy: 0.6619\n",
      "Epoch 00040: ReduceLROnPlateau reducing learning rate to 0.00047829695977270604.\n",
      "63/63 [==============================] - 0s 2ms/step - loss: 0.6136 - accuracy: 0.6619 - val_loss: 0.7709 - val_accuracy: 0.5170 - lr: 5.3144e-04\n",
      "Epoch 41/100\n",
      "63/63 [==============================] - 0s 2ms/step - loss: 0.6133 - accuracy: 0.6599 - val_loss: 0.7544 - val_accuracy: 0.5140 - lr: 4.7830e-04\n",
      "Epoch 42/100\n",
      "63/63 [==============================] - 0s 2ms/step - loss: 0.6097 - accuracy: 0.6629 - val_loss: 0.7307 - val_accuracy: 0.5260 - lr: 4.7830e-04\n",
      "Epoch 43/100\n",
      "63/63 [==============================] - 0s 2ms/step - loss: 0.6089 - accuracy: 0.6659 - val_loss: 0.7403 - val_accuracy: 0.5190 - lr: 4.7830e-04\n",
      "Epoch 44/100\n",
      "63/63 [==============================] - 0s 2ms/step - loss: 0.6103 - accuracy: 0.6609 - val_loss: 0.7365 - val_accuracy: 0.5190 - lr: 4.7830e-04\n",
      "Epoch 45/100\n",
      "37/63 [================>.............] - ETA: 0s - loss: 0.6029 - accuracy: 0.6710\n",
      "Epoch 00045: ReduceLROnPlateau reducing learning rate to 0.0004304672533180565.\n",
      "63/63 [==============================] - 0s 2ms/step - loss: 0.6037 - accuracy: 0.6722 - val_loss: 0.7451 - val_accuracy: 0.5180 - lr: 4.7830e-04\n",
      "Epoch 46/100\n",
      "63/63 [==============================] - 0s 2ms/step - loss: 0.6053 - accuracy: 0.6647 - val_loss: 0.7376 - val_accuracy: 0.5240 - lr: 4.3047e-04\n",
      "Epoch 47/100\n",
      "63/63 [==============================] - 0s 2ms/step - loss: 0.6035 - accuracy: 0.6742 - val_loss: 0.7438 - val_accuracy: 0.5150 - lr: 4.3047e-04\n",
      "Epoch 48/100\n",
      "63/63 [==============================] - 0s 2ms/step - loss: 0.6052 - accuracy: 0.6699 - val_loss: 0.7665 - val_accuracy: 0.5330 - lr: 4.3047e-04\n",
      "Epoch 49/100\n",
      "63/63 [==============================] - 0s 2ms/step - loss: 0.5997 - accuracy: 0.6677 - val_loss: 0.7541 - val_accuracy: 0.5200 - lr: 4.3047e-04\n",
      "Epoch 50/100\n",
      "36/63 [================>.............] - ETA: 0s - loss: 0.6053 - accuracy: 0.6645\n",
      "Epoch 00050: ReduceLROnPlateau reducing learning rate to 0.00038742052274756136.\n",
      "63/63 [==============================] - 0s 2ms/step - loss: 0.6047 - accuracy: 0.6644 - val_loss: 0.7723 - val_accuracy: 0.5240 - lr: 4.3047e-04\n",
      "Epoch 51/100\n",
      "63/63 [==============================] - 0s 2ms/step - loss: 0.6012 - accuracy: 0.6704 - val_loss: 0.7509 - val_accuracy: 0.5140 - lr: 3.8742e-04\n",
      "Epoch 52/100\n",
      "63/63 [==============================] - 0s 2ms/step - loss: 0.6036 - accuracy: 0.6682 - val_loss: 0.7455 - val_accuracy: 0.5070 - lr: 3.8742e-04\n",
      "Epoch 53/100\n",
      "63/63 [==============================] - 0s 2ms/step - loss: 0.5983 - accuracy: 0.6769 - val_loss: 0.7436 - val_accuracy: 0.5290 - lr: 3.8742e-04\n",
      "Epoch 54/100\n",
      "63/63 [==============================] - 0s 2ms/step - loss: 0.5938 - accuracy: 0.6784 - val_loss: 0.7579 - val_accuracy: 0.5170 - lr: 3.8742e-04\n",
      "Epoch 55/100\n",
      "37/63 [================>.............] - ETA: 0s - loss: 0.5925 - accuracy: 0.6820\n",
      "Epoch 00055: ReduceLROnPlateau reducing learning rate to 0.0003486784757114947.\n",
      "63/63 [==============================] - 0s 2ms/step - loss: 0.5958 - accuracy: 0.6844 - val_loss: 0.7608 - val_accuracy: 0.5180 - lr: 3.8742e-04\n",
      "Epoch 56/100\n",
      "63/63 [==============================] - 0s 2ms/step - loss: 0.5960 - accuracy: 0.6867 - val_loss: 0.7527 - val_accuracy: 0.5150 - lr: 3.4868e-04\n",
      "Epoch 57/100\n",
      "63/63 [==============================] - 0s 2ms/step - loss: 0.5962 - accuracy: 0.6754 - val_loss: 0.7757 - val_accuracy: 0.5190 - lr: 3.4868e-04\n",
      "Epoch 58/100\n",
      "63/63 [==============================] - 0s 2ms/step - loss: 0.5947 - accuracy: 0.6752 - val_loss: 0.7792 - val_accuracy: 0.5340 - lr: 3.4868e-04\n",
      "Epoch 59/100\n",
      "63/63 [==============================] - 0s 2ms/step - loss: 0.5952 - accuracy: 0.6772 - val_loss: 0.7768 - val_accuracy: 0.5190 - lr: 3.4868e-04\n",
      "Epoch 60/100\n",
      "35/63 [===============>..............] - ETA: 0s - loss: 0.5803 - accuracy: 0.6946\n",
      "Epoch 00060: ReduceLROnPlateau reducing learning rate to 0.00031381062290165574.\n",
      "63/63 [==============================] - 0s 2ms/step - loss: 0.5932 - accuracy: 0.6802 - val_loss: 0.7611 - val_accuracy: 0.5210 - lr: 3.4868e-04\n",
      "Epoch 61/100\n",
      "63/63 [==============================] - 0s 2ms/step - loss: 0.5884 - accuracy: 0.6887 - val_loss: 0.7549 - val_accuracy: 0.5260 - lr: 3.1381e-04\n",
      "Epoch 62/100\n",
      "63/63 [==============================] - 0s 2ms/step - loss: 0.5926 - accuracy: 0.6762 - val_loss: 0.7568 - val_accuracy: 0.5060 - lr: 3.1381e-04\n",
      "Epoch 63/100\n",
      "63/63 [==============================] - 0s 2ms/step - loss: 0.5881 - accuracy: 0.6844 - val_loss: 0.7585 - val_accuracy: 0.5160 - lr: 3.1381e-04\n",
      "Epoch 64/100\n",
      "63/63 [==============================] - 0s 2ms/step - loss: 0.5832 - accuracy: 0.6959 - val_loss: 0.7765 - val_accuracy: 0.5180 - lr: 3.1381e-04\n",
      "Epoch 65/100\n",
      "34/63 [===============>..............] - ETA: 0s - loss: 0.5849 - accuracy: 0.6861\n",
      "Epoch 00065: ReduceLROnPlateau reducing learning rate to 0.0002824295632308349.\n",
      "63/63 [==============================] - 0s 2ms/step - loss: 0.5869 - accuracy: 0.6844 - val_loss: 0.7769 - val_accuracy: 0.5210 - lr: 3.1381e-04\n",
      "Epoch 66/100\n",
      "63/63 [==============================] - 0s 2ms/step - loss: 0.5859 - accuracy: 0.6854 - val_loss: 0.7645 - val_accuracy: 0.5220 - lr: 2.8243e-04\n",
      "Epoch 67/100\n",
      "63/63 [==============================] - 0s 2ms/step - loss: 0.5848 - accuracy: 0.6899 - val_loss: 0.7685 - val_accuracy: 0.5130 - lr: 2.8243e-04\n",
      "Epoch 68/100\n",
      "63/63 [==============================] - 0s 2ms/step - loss: 0.5833 - accuracy: 0.6909 - val_loss: 0.7688 - val_accuracy: 0.5150 - lr: 2.8243e-04\n",
      "Epoch 69/100\n",
      "63/63 [==============================] - 0s 2ms/step - loss: 0.5872 - accuracy: 0.6862 - val_loss: 0.7903 - val_accuracy: 0.5280 - lr: 2.8243e-04\n",
      "Epoch 70/100\n",
      "30/63 [=============>................] - ETA: 0s - loss: 0.5790 - accuracy: 0.6906\n",
      "Epoch 00070: ReduceLROnPlateau reducing learning rate to 0.00025418660952709616.\n",
      "63/63 [==============================] - 0s 2ms/step - loss: 0.5823 - accuracy: 0.6892 - val_loss: 0.7644 - val_accuracy: 0.5250 - lr: 2.8243e-04\n",
      "Epoch 71/100\n",
      "63/63 [==============================] - 0s 2ms/step - loss: 0.5806 - accuracy: 0.6942 - val_loss: 0.7615 - val_accuracy: 0.5220 - lr: 2.5419e-04\n",
      "Epoch 72/100\n",
      "63/63 [==============================] - 0s 2ms/step - loss: 0.5814 - accuracy: 0.6957 - val_loss: 0.7734 - val_accuracy: 0.5120 - lr: 2.5419e-04\n",
      "Epoch 73/100\n",
      "63/63 [==============================] - 0s 2ms/step - loss: 0.5811 - accuracy: 0.6909 - val_loss: 0.7723 - val_accuracy: 0.5140 - lr: 2.5419e-04\n",
      "Epoch 74/100\n",
      "63/63 [==============================] - 0s 2ms/step - loss: 0.5813 - accuracy: 0.6932 - val_loss: 0.7899 - val_accuracy: 0.5200 - lr: 2.5419e-04\n",
      "Epoch 75/100\n",
      "34/63 [===============>..............] - ETA: 0s - loss: 0.5736 - accuracy: 0.7100\n",
      "Epoch 00075: ReduceLROnPlateau reducing learning rate to 0.00022876793809700757.\n",
      "63/63 [==============================] - 0s 2ms/step - loss: 0.5828 - accuracy: 0.6922 - val_loss: 0.7764 - val_accuracy: 0.5110 - lr: 2.5419e-04\n",
      "Epoch 76/100\n",
      "63/63 [==============================] - 0s 2ms/step - loss: 0.5851 - accuracy: 0.6869 - val_loss: 0.7779 - val_accuracy: 0.5180 - lr: 2.2877e-04\n",
      "Epoch 77/100\n",
      "63/63 [==============================] - 0s 2ms/step - loss: 0.5757 - accuracy: 0.7005 - val_loss: 0.7681 - val_accuracy: 0.5190 - lr: 2.2877e-04\n",
      "Epoch 78/100\n",
      "63/63 [==============================] - 0s 2ms/step - loss: 0.5761 - accuracy: 0.6962 - val_loss: 0.7928 - val_accuracy: 0.5120 - lr: 2.2877e-04\n",
      "Epoch 79/100\n",
      "63/63 [==============================] - 0s 2ms/step - loss: 0.5740 - accuracy: 0.7035 - val_loss: 0.7712 - val_accuracy: 0.5210 - lr: 2.2877e-04\n",
      "Epoch 80/100\n",
      "36/63 [================>.............] - ETA: 0s - loss: 0.5787 - accuracy: 0.6984\n",
      "Epoch 00080: ReduceLROnPlateau reducing learning rate to 0.00020589114428730683.\n",
      "63/63 [==============================] - 0s 2ms/step - loss: 0.5736 - accuracy: 0.7025 - val_loss: 0.7845 - val_accuracy: 0.5160 - lr: 2.2877e-04\n",
      "Epoch 81/100\n",
      "63/63 [==============================] - 0s 2ms/step - loss: 0.5746 - accuracy: 0.6947 - val_loss: 0.7777 - val_accuracy: 0.5110 - lr: 2.0589e-04\n",
      "Epoch 82/100\n",
      "63/63 [==============================] - 0s 2ms/step - loss: 0.5744 - accuracy: 0.6984 - val_loss: 0.7951 - val_accuracy: 0.5210 - lr: 2.0589e-04\n",
      "Epoch 83/100\n",
      "63/63 [==============================] - 0s 2ms/step - loss: 0.5716 - accuracy: 0.6919 - val_loss: 0.7927 - val_accuracy: 0.5220 - lr: 2.0589e-04\n",
      "Epoch 84/100\n",
      "63/63 [==============================] - 0s 2ms/step - loss: 0.5697 - accuracy: 0.7057 - val_loss: 0.7869 - val_accuracy: 0.5060 - lr: 2.0589e-04\n",
      "Epoch 85/100\n",
      "37/63 [================>.............] - ETA: 0s - loss: 0.5681 - accuracy: 0.7065\n",
      "Epoch 00085: ReduceLROnPlateau reducing learning rate to 0.00018530203378759326.\n",
      "63/63 [==============================] - 0s 2ms/step - loss: 0.5715 - accuracy: 0.7032 - val_loss: 0.7890 - val_accuracy: 0.5140 - lr: 2.0589e-04\n",
      "Epoch 86/100\n",
      "63/63 [==============================] - 0s 2ms/step - loss: 0.5737 - accuracy: 0.6987 - val_loss: 0.7833 - val_accuracy: 0.5120 - lr: 1.8530e-04\n",
      "Epoch 87/100\n",
      "63/63 [==============================] - 0s 2ms/step - loss: 0.5685 - accuracy: 0.7005 - val_loss: 0.7983 - val_accuracy: 0.5160 - lr: 1.8530e-04\n",
      "Epoch 88/100\n",
      "63/63 [==============================] - 0s 2ms/step - loss: 0.5728 - accuracy: 0.6952 - val_loss: 0.7820 - val_accuracy: 0.5110 - lr: 1.8530e-04\n",
      "Epoch 89/100\n",
      "63/63 [==============================] - 0s 2ms/step - loss: 0.5741 - accuracy: 0.6952 - val_loss: 0.8053 - val_accuracy: 0.5170 - lr: 1.8530e-04\n",
      "Epoch 90/100\n",
      "34/63 [===============>..............] - ETA: 0s - loss: 0.5749 - accuracy: 0.6967\n",
      "Epoch 00090: ReduceLROnPlateau reducing learning rate to 0.00016677183302817866.\n",
      "63/63 [==============================] - 0s 2ms/step - loss: 0.5671 - accuracy: 0.7067 - val_loss: 0.7833 - val_accuracy: 0.5100 - lr: 1.8530e-04\n",
      "Epoch 91/100\n",
      "63/63 [==============================] - 0s 2ms/step - loss: 0.5700 - accuracy: 0.7077 - val_loss: 0.7794 - val_accuracy: 0.5240 - lr: 1.6677e-04\n",
      "Epoch 92/100\n",
      "63/63 [==============================] - 0s 2ms/step - loss: 0.5721 - accuracy: 0.7025 - val_loss: 0.7809 - val_accuracy: 0.5210 - lr: 1.6677e-04\n",
      "Epoch 93/100\n",
      "63/63 [==============================] - 0s 2ms/step - loss: 0.5680 - accuracy: 0.7082 - val_loss: 0.7924 - val_accuracy: 0.5120 - lr: 1.6677e-04\n",
      "Epoch 94/100\n",
      "63/63 [==============================] - 0s 2ms/step - loss: 0.5740 - accuracy: 0.7012 - val_loss: 0.7901 - val_accuracy: 0.5160 - lr: 1.6677e-04\n",
      "Epoch 95/100\n",
      "33/63 [==============>...............] - ETA: 0s - loss: 0.5691 - accuracy: 0.6989\n",
      "Epoch 00095: ReduceLROnPlateau reducing learning rate to 0.00015009464841568844.\n",
      "63/63 [==============================] - 0s 2ms/step - loss: 0.5728 - accuracy: 0.6959 - val_loss: 0.7915 - val_accuracy: 0.5180 - lr: 1.6677e-04\n",
      "Epoch 96/100\n",
      "63/63 [==============================] - 0s 2ms/step - loss: 0.5679 - accuracy: 0.7040 - val_loss: 0.7842 - val_accuracy: 0.5180 - lr: 1.5009e-04\n",
      "Epoch 97/100\n",
      "63/63 [==============================] - 0s 2ms/step - loss: 0.5659 - accuracy: 0.7047 - val_loss: 0.7945 - val_accuracy: 0.5130 - lr: 1.5009e-04\n",
      "Epoch 98/100\n",
      "63/63 [==============================] - 0s 2ms/step - loss: 0.5673 - accuracy: 0.6967 - val_loss: 0.7876 - val_accuracy: 0.5130 - lr: 1.5009e-04\n",
      "Epoch 99/100\n",
      "63/63 [==============================] - 0s 2ms/step - loss: 0.5663 - accuracy: 0.7045 - val_loss: 0.8003 - val_accuracy: 0.5200 - lr: 1.5009e-04\n",
      "Epoch 100/100\n",
      "36/63 [================>.............] - ETA: 0s - loss: 0.5667 - accuracy: 0.7096\n",
      "Epoch 00100: ReduceLROnPlateau reducing learning rate to 0.0001350851875031367.\n",
      "63/63 [==============================] - 0s 2ms/step - loss: 0.5671 - accuracy: 0.7090 - val_loss: 0.8021 - val_accuracy: 0.5130 - lr: 1.5009e-04\n"
     ]
    }
   ],
   "source": [
    "model = Sequential()\n",
    "model.add(Dense(64, input_dim=30))#, kernel_initializer='uniform', bias_initializer='ones')) #zeros, ones, uniform\n",
    "model.add(BatchNormalization())\n",
    "model.add(LeakyReLU())\n",
    "model.add(Dense(16))\n",
    "model.add(BatchNormalization())\n",
    "model.add(LeakyReLU())\n",
    "model.add(Dense(2))\n",
    "model.add(Activation('softmax'))\n",
    "\n",
    "optimizer = Adam()\n",
    "\n",
    "reduce_lr = ReduceLROnPlateau(monitor='val_loss', factor=0.9, patience=5, min_lr=0.000001, verbose=1)\n",
    "model.compile(optimizer=optimizer,\n",
    "              loss='categorical_crossentropy',\n",
    "              metrics=['accuracy'])\n",
    "\n",
    "history_2 = model.fit(X_train, Y_train,\n",
    "                  #  nb_epoch=150,\n",
    "                  epochs=100,\n",
    "                   batch_size=64,\n",
    "                   verbose=1,\n",
    "                   validation_data=(X_test, Y_test),\n",
    "                   shuffle=True,\n",
    "                   callbacks=[reduce_lr])"
   ]
  },
  {
   "cell_type": "code",
   "execution_count": 158,
   "metadata": {
    "colab": {
     "base_uri": "https://localhost:8080/",
     "height": 312
    },
    "colab_type": "code",
    "id": "nMn5an-JZXc1",
    "outputId": "11b914af-7907-49e4-c347-e280a911e471"
   },
   "outputs": [
    {
     "data": {
      "text/plain": [
       "<matplotlib.legend.Legend at 0x7f6c62ecf470>"
      ]
     },
     "execution_count": 158,
     "metadata": {
      "tags": []
     },
     "output_type": "execute_result"
    },
    {
     "data": {
      "image/png": "[encoded data removed]",
      "text/plain": [
       "<Figure size 432x288 with 1 Axes>"
      ]
     },
     "metadata": {
      "needs_background": "light",
      "tags": []
     },
     "output_type": "display_data"
    }
   ],
   "source": [
    "plt.figure()\n",
    "plt.plot(history_2.history['loss'])\n",
    "plt.plot(history_2.history['val_loss'])\n",
    "plt.title('model loss')\n",
    "plt.ylabel('loss')\n",
    "plt.xlabel('epoch')\n",
    "plt.legend(['train', 'test'], loc='best')"
   ]
  },
  {
   "cell_type": "code",
   "execution_count": 159,
   "metadata": {
    "colab": {
     "base_uri": "https://localhost:8080/",
     "height": 312
    },
    "colab_type": "code",
    "id": "H4OGU-EdZbwW",
    "outputId": "e02fa9ea-596c-4a01-957f-34482daa6191"
   },
   "outputs": [
    {
     "data": {
      "text/plain": [
       "<matplotlib.legend.Legend at 0x7f6c62e5f3c8>"
      ]
     },
     "execution_count": 159,
     "metadata": {
      "tags": []
     },
     "output_type": "execute_result"
    },
    {
     "data": {
      "image/png": "[encoded data removed]",
      "text/plain": [
       "<Figure size 432x288 with 1 Axes>"
      ]
     },
     "metadata": {
      "needs_background": "light",
      "tags": []
     },
     "output_type": "display_data"
    }
   ],
   "source": [
    "plt.figure()\n",
    "plt.plot(history_2.history['accuracy'])\n",
    "plt.plot(history_2.history['val_accuracy'])\n",
    "plt.title('model accuracy')\n",
    "plt.ylabel('acc')\n",
    "plt.xlabel('epoch')\n",
    "plt.legend(['train', 'test'], loc='best')"
   ]
  },
  {
   "cell_type": "markdown",
   "metadata": {
    "colab_type": "text",
    "id": "nQJLVS_IkyHf"
   },
   "source": [
    "From the above Model Accuracy graph, we can observe that the train accuracy went upto 70.5 and test accuracy fluctuated around 50 to 52. Training accuracy increased indicating Overfitting."
   ]
  },
  {
   "cell_type": "markdown",
   "metadata": {
    "colab_type": "text",
    "id": "SHlU6mrbmkdN"
   },
   "source": [
    "----"
   ]
  },
  {
   "cell_type": "markdown",
   "metadata": {
    "colab_type": "text",
    "id": "n3v6YTSFmlT-"
   },
   "source": [
    "c)Type 3: Basic MLP Layer with a multiple hidden dense layers along with regularizers and dropouts to avoid the overfitting. Adam Optimizer and Softmax activation for output. Expecting our model to avoid overfitting and also to bridge the gap between training and testing accuracy."
   ]
  },
  {
   "cell_type": "code",
   "execution_count": 160,
   "metadata": {
    "colab": {
     "base_uri": "https://localhost:8080/",
     "height": 1000
    },
    "colab_type": "code",
    "id": "4obgOrDyZcTz",
    "outputId": "530df848-c890-4aa3-ec96-a45729b0e013"
   },
   "outputs": [
    {
     "name": "stdout",
     "output_type": "stream",
     "text": [
      "Epoch 1/150\n",
      "125/125 [==============================] - 0s 3ms/step - loss: 1.2995 - accuracy: 0.5455 - val_loss: 1.1922 - val_accuracy: 0.5040 - lr: 0.0010\n",
      "Epoch 2/150\n",
      "125/125 [==============================] - 0s 2ms/step - loss: 1.1023 - accuracy: 0.5688 - val_loss: 1.0370 - val_accuracy: 0.5200 - lr: 0.0010\n",
      "Epoch 3/150\n",
      "125/125 [==============================] - 0s 2ms/step - loss: 0.9769 - accuracy: 0.5771 - val_loss: 0.9508 - val_accuracy: 0.4930 - lr: 0.0010\n",
      "Epoch 4/150\n",
      "125/125 [==============================] - 0s 2ms/step - loss: 0.8865 - accuracy: 0.5846 - val_loss: 0.8747 - val_accuracy: 0.5050 - lr: 0.0010\n",
      "Epoch 5/150\n",
      "125/125 [==============================] - 0s 2ms/step - loss: 0.8317 - accuracy: 0.5736 - val_loss: 0.8406 - val_accuracy: 0.5080 - lr: 0.0010\n",
      "Epoch 6/150\n",
      "125/125 [==============================] - 0s 2ms/step - loss: 0.7871 - accuracy: 0.5806 - val_loss: 0.8057 - val_accuracy: 0.5170 - lr: 0.0010\n",
      "Epoch 7/150\n",
      "125/125 [==============================] - 0s 2ms/step - loss: 0.7580 - accuracy: 0.5951 - val_loss: 0.7705 - val_accuracy: 0.5090 - lr: 0.0010\n",
      "Epoch 8/150\n",
      "125/125 [==============================] - 0s 2ms/step - loss: 0.7344 - accuracy: 0.5881 - val_loss: 0.7721 - val_accuracy: 0.5110 - lr: 0.0010\n",
      "Epoch 9/150\n",
      "125/125 [==============================] - 0s 2ms/step - loss: 0.7206 - accuracy: 0.5923 - val_loss: 0.7521 - val_accuracy: 0.5200 - lr: 0.0010\n",
      "Epoch 10/150\n",
      "125/125 [==============================] - 0s 2ms/step - loss: 0.7115 - accuracy: 0.5888 - val_loss: 0.7439 - val_accuracy: 0.5020 - lr: 0.0010\n",
      "Epoch 11/150\n",
      "125/125 [==============================] - 0s 2ms/step - loss: 0.7022 - accuracy: 0.5901 - val_loss: 0.7418 - val_accuracy: 0.5070 - lr: 0.0010\n",
      "Epoch 12/150\n",
      "125/125 [==============================] - 0s 2ms/step - loss: 0.6973 - accuracy: 0.5941 - val_loss: 0.7305 - val_accuracy: 0.5040 - lr: 0.0010\n",
      "Epoch 13/150\n",
      "125/125 [==============================] - 0s 2ms/step - loss: 0.6920 - accuracy: 0.5933 - val_loss: 0.7369 - val_accuracy: 0.4980 - lr: 0.0010\n",
      "Epoch 14/150\n",
      "125/125 [==============================] - 0s 2ms/step - loss: 0.6918 - accuracy: 0.5831 - val_loss: 0.7364 - val_accuracy: 0.4980 - lr: 0.0010\n",
      "Epoch 15/150\n",
      "125/125 [==============================] - 0s 2ms/step - loss: 0.6865 - accuracy: 0.5921 - val_loss: 0.7274 - val_accuracy: 0.5130 - lr: 0.0010\n",
      "Epoch 16/150\n",
      "125/125 [==============================] - 0s 2ms/step - loss: 0.6833 - accuracy: 0.5963 - val_loss: 0.7146 - val_accuracy: 0.5150 - lr: 0.0010\n",
      "Epoch 17/150\n",
      "125/125 [==============================] - 0s 2ms/step - loss: 0.6804 - accuracy: 0.5966 - val_loss: 0.7209 - val_accuracy: 0.5260 - lr: 0.0010\n",
      "Epoch 18/150\n",
      "125/125 [==============================] - 0s 2ms/step - loss: 0.6794 - accuracy: 0.5988 - val_loss: 0.7192 - val_accuracy: 0.5170 - lr: 0.0010\n",
      "Epoch 19/150\n",
      "125/125 [==============================] - 0s 2ms/step - loss: 0.6814 - accuracy: 0.5993 - val_loss: 0.7359 - val_accuracy: 0.4970 - lr: 0.0010\n",
      "Epoch 20/150\n",
      "125/125 [==============================] - 0s 2ms/step - loss: 0.6806 - accuracy: 0.5948 - val_loss: 0.7207 - val_accuracy: 0.5220 - lr: 0.0010\n",
      "Epoch 21/150\n",
      " 94/125 [=====================>........] - ETA: 0s - loss: 0.6810 - accuracy: 0.6011\n",
      "Epoch 00021: ReduceLROnPlateau reducing learning rate to 0.0009000000427477062.\n",
      "125/125 [==============================] - 0s 2ms/step - loss: 0.6786 - accuracy: 0.6019 - val_loss: 0.7146 - val_accuracy: 0.5220 - lr: 0.0010\n",
      "Epoch 22/150\n",
      "125/125 [==============================] - 0s 2ms/step - loss: 0.6797 - accuracy: 0.5926 - val_loss: 0.7249 - val_accuracy: 0.5260 - lr: 9.0000e-04\n",
      "Epoch 23/150\n",
      "125/125 [==============================] - 0s 2ms/step - loss: 0.6765 - accuracy: 0.5958 - val_loss: 0.7148 - val_accuracy: 0.5060 - lr: 9.0000e-04\n",
      "Epoch 24/150\n",
      "125/125 [==============================] - 0s 2ms/step - loss: 0.6767 - accuracy: 0.5978 - val_loss: 0.7167 - val_accuracy: 0.5030 - lr: 9.0000e-04\n",
      "Epoch 25/150\n",
      "125/125 [==============================] - 0s 2ms/step - loss: 0.6791 - accuracy: 0.5968 - val_loss: 0.7131 - val_accuracy: 0.5180 - lr: 9.0000e-04\n",
      "Epoch 26/150\n",
      "125/125 [==============================] - 0s 2ms/step - loss: 0.6805 - accuracy: 0.5928 - val_loss: 0.7187 - val_accuracy: 0.5050 - lr: 9.0000e-04\n",
      "Epoch 27/150\n",
      "125/125 [==============================] - 0s 2ms/step - loss: 0.6740 - accuracy: 0.6024 - val_loss: 0.7095 - val_accuracy: 0.4980 - lr: 9.0000e-04\n",
      "Epoch 28/150\n",
      "125/125 [==============================] - 0s 2ms/step - loss: 0.6773 - accuracy: 0.5966 - val_loss: 0.7147 - val_accuracy: 0.5060 - lr: 9.0000e-04\n",
      "Epoch 29/150\n",
      "125/125 [==============================] - 0s 2ms/step - loss: 0.6787 - accuracy: 0.5933 - val_loss: 0.7215 - val_accuracy: 0.5170 - lr: 9.0000e-04\n",
      "Epoch 30/150\n",
      "125/125 [==============================] - 0s 2ms/step - loss: 0.6742 - accuracy: 0.5996 - val_loss: 0.7223 - val_accuracy: 0.5070 - lr: 9.0000e-04\n",
      "Epoch 31/150\n",
      "125/125 [==============================] - 0s 2ms/step - loss: 0.6764 - accuracy: 0.5986 - val_loss: 0.7139 - val_accuracy: 0.5050 - lr: 9.0000e-04\n",
      "Epoch 32/150\n",
      " 99/125 [======================>.......] - ETA: 0s - loss: 0.6741 - accuracy: 0.5960\n",
      "Epoch 00032: ReduceLROnPlateau reducing learning rate to 0.0008100000384729356.\n",
      "125/125 [==============================] - 0s 2ms/step - loss: 0.6744 - accuracy: 0.5963 - val_loss: 0.7130 - val_accuracy: 0.5180 - lr: 9.0000e-04\n",
      "Epoch 33/150\n",
      "125/125 [==============================] - 0s 2ms/step - loss: 0.6757 - accuracy: 0.5951 - val_loss: 0.7156 - val_accuracy: 0.5110 - lr: 8.1000e-04\n",
      "Epoch 34/150\n",
      "125/125 [==============================] - 0s 2ms/step - loss: 0.6747 - accuracy: 0.5948 - val_loss: 0.7136 - val_accuracy: 0.5110 - lr: 8.1000e-04\n",
      "Epoch 35/150\n",
      "125/125 [==============================] - 0s 2ms/step - loss: 0.6749 - accuracy: 0.5968 - val_loss: 0.7152 - val_accuracy: 0.5110 - lr: 8.1000e-04\n",
      "Epoch 36/150\n",
      "125/125 [==============================] - 0s 2ms/step - loss: 0.6758 - accuracy: 0.5926 - val_loss: 0.7163 - val_accuracy: 0.5050 - lr: 8.1000e-04\n",
      "Epoch 37/150\n",
      " 95/125 [=====================>........] - ETA: 0s - loss: 0.6785 - accuracy: 0.5964\n",
      "Epoch 00037: ReduceLROnPlateau reducing learning rate to 0.0007290000503417104.\n",
      "125/125 [==============================] - 0s 2ms/step - loss: 0.6768 - accuracy: 0.5986 - val_loss: 0.7279 - val_accuracy: 0.4940 - lr: 8.1000e-04\n",
      "Epoch 38/150\n",
      "125/125 [==============================] - 0s 2ms/step - loss: 0.6741 - accuracy: 0.5978 - val_loss: 0.7093 - val_accuracy: 0.5070 - lr: 7.2900e-04\n",
      "Epoch 39/150\n",
      "125/125 [==============================] - 0s 2ms/step - loss: 0.6735 - accuracy: 0.6006 - val_loss: 0.7173 - val_accuracy: 0.5130 - lr: 7.2900e-04\n",
      "Epoch 40/150\n",
      "125/125 [==============================] - 0s 2ms/step - loss: 0.6746 - accuracy: 0.5978 - val_loss: 0.7083 - val_accuracy: 0.5170 - lr: 7.2900e-04\n",
      "Epoch 41/150\n",
      "125/125 [==============================] - 0s 2ms/step - loss: 0.6761 - accuracy: 0.5998 - val_loss: 0.7074 - val_accuracy: 0.5150 - lr: 7.2900e-04\n",
      "Epoch 42/150\n",
      "125/125 [==============================] - 0s 2ms/step - loss: 0.6738 - accuracy: 0.5956 - val_loss: 0.7136 - val_accuracy: 0.5140 - lr: 7.2900e-04\n",
      "Epoch 43/150\n",
      "125/125 [==============================] - 0s 2ms/step - loss: 0.6737 - accuracy: 0.6016 - val_loss: 0.7231 - val_accuracy: 0.5050 - lr: 7.2900e-04\n",
      "Epoch 44/150\n",
      "125/125 [==============================] - 0s 2ms/step - loss: 0.6733 - accuracy: 0.6021 - val_loss: 0.7111 - val_accuracy: 0.5010 - lr: 7.2900e-04\n",
      "Epoch 45/150\n",
      "125/125 [==============================] - 0s 2ms/step - loss: 0.6731 - accuracy: 0.6009 - val_loss: 0.7194 - val_accuracy: 0.5190 - lr: 7.2900e-04\n",
      "Epoch 46/150\n",
      " 98/125 [======================>.......] - ETA: 0s - loss: 0.6739 - accuracy: 0.5941\n",
      "Epoch 00046: ReduceLROnPlateau reducing learning rate to 0.0006561000715009868.\n",
      "125/125 [==============================] - 0s 2ms/step - loss: 0.6749 - accuracy: 0.5946 - val_loss: 0.7162 - val_accuracy: 0.5170 - lr: 7.2900e-04\n",
      "Epoch 47/150\n",
      "125/125 [==============================] - 0s 2ms/step - loss: 0.6729 - accuracy: 0.6056 - val_loss: 0.7174 - val_accuracy: 0.5020 - lr: 6.5610e-04\n",
      "Epoch 48/150\n",
      "125/125 [==============================] - 0s 2ms/step - loss: 0.6725 - accuracy: 0.6029 - val_loss: 0.7091 - val_accuracy: 0.5110 - lr: 6.5610e-04\n",
      "Epoch 49/150\n",
      "125/125 [==============================] - 0s 2ms/step - loss: 0.6733 - accuracy: 0.5936 - val_loss: 0.7151 - val_accuracy: 0.5210 - lr: 6.5610e-04\n",
      "Epoch 50/150\n",
      "125/125 [==============================] - 0s 2ms/step - loss: 0.6748 - accuracy: 0.5986 - val_loss: 0.7175 - val_accuracy: 0.5250 - lr: 6.5610e-04\n",
      "Epoch 51/150\n",
      "100/125 [=======================>......] - ETA: 0s - loss: 0.6705 - accuracy: 0.6047\n",
      "Epoch 00051: ReduceLROnPlateau reducing learning rate to 0.0005904900433961303.\n",
      "125/125 [==============================] - 0s 2ms/step - loss: 0.6735 - accuracy: 0.6001 - val_loss: 0.7151 - val_accuracy: 0.5080 - lr: 6.5610e-04\n",
      "Epoch 52/150\n",
      "125/125 [==============================] - 0s 2ms/step - loss: 0.6726 - accuracy: 0.6019 - val_loss: 0.7317 - val_accuracy: 0.5140 - lr: 5.9049e-04\n",
      "Epoch 53/150\n",
      "125/125 [==============================] - 0s 2ms/step - loss: 0.6729 - accuracy: 0.5998 - val_loss: 0.7072 - val_accuracy: 0.5210 - lr: 5.9049e-04\n",
      "Epoch 54/150\n",
      "125/125 [==============================] - 0s 2ms/step - loss: 0.6723 - accuracy: 0.6001 - val_loss: 0.7138 - val_accuracy: 0.5180 - lr: 5.9049e-04\n",
      "Epoch 55/150\n",
      "125/125 [==============================] - 0s 2ms/step - loss: 0.6740 - accuracy: 0.5996 - val_loss: 0.7195 - val_accuracy: 0.5050 - lr: 5.9049e-04\n",
      "Epoch 56/150\n",
      "125/125 [==============================] - 0s 2ms/step - loss: 0.6711 - accuracy: 0.6044 - val_loss: 0.7274 - val_accuracy: 0.5000 - lr: 5.9049e-04\n",
      "Epoch 57/150\n",
      "125/125 [==============================] - 0s 2ms/step - loss: 0.6733 - accuracy: 0.6036 - val_loss: 0.7122 - val_accuracy: 0.5170 - lr: 5.9049e-04\n",
      "Epoch 58/150\n",
      " 97/125 [======================>.......] - ETA: 0s - loss: 0.6734 - accuracy: 0.5934\n",
      "Epoch 00058: ReduceLROnPlateau reducing learning rate to 0.0005314410547725857.\n",
      "125/125 [==============================] - 0s 2ms/step - loss: 0.6723 - accuracy: 0.5956 - val_loss: 0.7174 - val_accuracy: 0.5090 - lr: 5.9049e-04\n",
      "Epoch 59/150\n",
      "125/125 [==============================] - 0s 2ms/step - loss: 0.6737 - accuracy: 0.5996 - val_loss: 0.7115 - val_accuracy: 0.5080 - lr: 5.3144e-04\n",
      "Epoch 60/150\n",
      "125/125 [==============================] - 0s 2ms/step - loss: 0.6721 - accuracy: 0.5978 - val_loss: 0.7151 - val_accuracy: 0.5180 - lr: 5.3144e-04\n",
      "Epoch 61/150\n",
      "125/125 [==============================] - 0s 2ms/step - loss: 0.6703 - accuracy: 0.5998 - val_loss: 0.7099 - val_accuracy: 0.5250 - lr: 5.3144e-04\n",
      "Epoch 62/150\n",
      "125/125 [==============================] - 0s 2ms/step - loss: 0.6710 - accuracy: 0.6036 - val_loss: 0.7094 - val_accuracy: 0.5170 - lr: 5.3144e-04\n",
      "Epoch 63/150\n",
      "101/125 [=======================>......] - ETA: 0s - loss: 0.6713 - accuracy: 0.5987\n",
      "Epoch 00063: ReduceLROnPlateau reducing learning rate to 0.00047829695977270604.\n",
      "125/125 [==============================] - 0s 2ms/step - loss: 0.6720 - accuracy: 0.5981 - val_loss: 0.7203 - val_accuracy: 0.5190 - lr: 5.3144e-04\n",
      "Epoch 64/150\n",
      "125/125 [==============================] - 0s 2ms/step - loss: 0.6682 - accuracy: 0.6031 - val_loss: 0.7213 - val_accuracy: 0.5140 - lr: 4.7830e-04\n",
      "Epoch 65/150\n",
      "125/125 [==============================] - 0s 2ms/step - loss: 0.6708 - accuracy: 0.6006 - val_loss: 0.7156 - val_accuracy: 0.5150 - lr: 4.7830e-04\n",
      "Epoch 66/150\n",
      "125/125 [==============================] - 0s 2ms/step - loss: 0.6701 - accuracy: 0.6029 - val_loss: 0.7110 - val_accuracy: 0.5170 - lr: 4.7830e-04\n",
      "Epoch 67/150\n",
      "125/125 [==============================] - 0s 2ms/step - loss: 0.6714 - accuracy: 0.6019 - val_loss: 0.7283 - val_accuracy: 0.5190 - lr: 4.7830e-04\n",
      "Epoch 68/150\n",
      " 97/125 [======================>.......] - ETA: 0s - loss: 0.6672 - accuracy: 0.6005\n",
      "Epoch 00068: ReduceLROnPlateau reducing learning rate to 0.0004304672533180565.\n",
      "125/125 [==============================] - 0s 2ms/step - loss: 0.6710 - accuracy: 0.5971 - val_loss: 0.7088 - val_accuracy: 0.5230 - lr: 4.7830e-04\n",
      "Epoch 69/150\n",
      "125/125 [==============================] - 0s 2ms/step - loss: 0.6710 - accuracy: 0.6029 - val_loss: 0.7311 - val_accuracy: 0.5080 - lr: 4.3047e-04\n",
      "Epoch 70/150\n",
      "125/125 [==============================] - 0s 2ms/step - loss: 0.6682 - accuracy: 0.6049 - val_loss: 0.7074 - val_accuracy: 0.5140 - lr: 4.3047e-04\n",
      "Epoch 71/150\n",
      "125/125 [==============================] - 0s 2ms/step - loss: 0.6699 - accuracy: 0.6034 - val_loss: 0.7255 - val_accuracy: 0.5110 - lr: 4.3047e-04\n",
      "Epoch 72/150\n",
      "125/125 [==============================] - 0s 2ms/step - loss: 0.6704 - accuracy: 0.5988 - val_loss: 0.7201 - val_accuracy: 0.5000 - lr: 4.3047e-04\n",
      "Epoch 73/150\n",
      "101/125 [=======================>......] - ETA: 0s - loss: 0.6703 - accuracy: 0.5913\n",
      "Epoch 00073: ReduceLROnPlateau reducing learning rate to 0.00038742052274756136.\n",
      "125/125 [==============================] - 0s 2ms/step - loss: 0.6700 - accuracy: 0.5978 - val_loss: 0.7097 - val_accuracy: 0.5040 - lr: 4.3047e-04\n",
      "Epoch 74/150\n",
      "125/125 [==============================] - 0s 2ms/step - loss: 0.6664 - accuracy: 0.6109 - val_loss: 0.7220 - val_accuracy: 0.4970 - lr: 3.8742e-04\n",
      "Epoch 75/150\n",
      "125/125 [==============================] - 0s 2ms/step - loss: 0.6699 - accuracy: 0.6026 - val_loss: 0.7165 - val_accuracy: 0.5170 - lr: 3.8742e-04\n",
      "Epoch 76/150\n",
      "125/125 [==============================] - 0s 2ms/step - loss: 0.6694 - accuracy: 0.6059 - val_loss: 0.7124 - val_accuracy: 0.5140 - lr: 3.8742e-04\n",
      "Epoch 77/150\n",
      "125/125 [==============================] - 0s 2ms/step - loss: 0.6693 - accuracy: 0.6029 - val_loss: 0.7116 - val_accuracy: 0.5100 - lr: 3.8742e-04\n",
      "Epoch 78/150\n",
      "100/125 [=======================>......] - ETA: 0s - loss: 0.6693 - accuracy: 0.5984\n",
      "Epoch 00078: ReduceLROnPlateau reducing learning rate to 0.0003486784757114947.\n",
      "125/125 [==============================] - 0s 2ms/step - loss: 0.6668 - accuracy: 0.6036 - val_loss: 0.7196 - val_accuracy: 0.5140 - lr: 3.8742e-04\n",
      "Epoch 79/150\n",
      "125/125 [==============================] - 0s 2ms/step - loss: 0.6678 - accuracy: 0.6024 - val_loss: 0.7139 - val_accuracy: 0.5140 - lr: 3.4868e-04\n",
      "Epoch 80/150\n",
      "125/125 [==============================] - 0s 2ms/step - loss: 0.6686 - accuracy: 0.6031 - val_loss: 0.7108 - val_accuracy: 0.5140 - lr: 3.4868e-04\n",
      "Epoch 81/150\n",
      "125/125 [==============================] - 0s 2ms/step - loss: 0.6697 - accuracy: 0.6009 - val_loss: 0.7111 - val_accuracy: 0.5170 - lr: 3.4868e-04\n",
      "Epoch 82/150\n",
      "125/125 [==============================] - 0s 2ms/step - loss: 0.6669 - accuracy: 0.6044 - val_loss: 0.7219 - val_accuracy: 0.5120 - lr: 3.4868e-04\n",
      "Epoch 83/150\n",
      "104/125 [=======================>......] - ETA: 0s - loss: 0.6696 - accuracy: 0.5928\n",
      "Epoch 00083: ReduceLROnPlateau reducing learning rate to 0.00031381062290165574.\n",
      "125/125 [==============================] - 0s 2ms/step - loss: 0.6681 - accuracy: 0.5971 - val_loss: 0.7125 - val_accuracy: 0.5190 - lr: 3.4868e-04\n",
      "Epoch 84/150\n",
      "125/125 [==============================] - 0s 2ms/step - loss: 0.6672 - accuracy: 0.6059 - val_loss: 0.7085 - val_accuracy: 0.5160 - lr: 3.1381e-04\n",
      "Epoch 85/150\n",
      "125/125 [==============================] - 0s 2ms/step - loss: 0.6676 - accuracy: 0.6064 - val_loss: 0.7100 - val_accuracy: 0.5150 - lr: 3.1381e-04\n",
      "Epoch 86/150\n",
      "125/125 [==============================] - 0s 2ms/step - loss: 0.6661 - accuracy: 0.6066 - val_loss: 0.7193 - val_accuracy: 0.5070 - lr: 3.1381e-04\n",
      "Epoch 87/150\n",
      "125/125 [==============================] - 0s 2ms/step - loss: 0.6665 - accuracy: 0.6044 - val_loss: 0.7051 - val_accuracy: 0.5270 - lr: 3.1381e-04\n",
      "Epoch 88/150\n",
      "125/125 [==============================] - 0s 2ms/step - loss: 0.6689 - accuracy: 0.5953 - val_loss: 0.7142 - val_accuracy: 0.5080 - lr: 3.1381e-04\n",
      "Epoch 89/150\n",
      "125/125 [==============================] - 0s 2ms/step - loss: 0.6668 - accuracy: 0.5988 - val_loss: 0.7143 - val_accuracy: 0.5170 - lr: 3.1381e-04\n",
      "Epoch 90/150\n",
      "125/125 [==============================] - 0s 2ms/step - loss: 0.6653 - accuracy: 0.6129 - val_loss: 0.7178 - val_accuracy: 0.4950 - lr: 3.1381e-04\n",
      "Epoch 91/150\n",
      "125/125 [==============================] - 0s 2ms/step - loss: 0.6666 - accuracy: 0.6039 - val_loss: 0.7210 - val_accuracy: 0.5030 - lr: 3.1381e-04\n",
      "Epoch 92/150\n",
      "121/125 [============================>.] - ETA: 0s - loss: 0.6672 - accuracy: 0.6069\n",
      "Epoch 00092: ReduceLROnPlateau reducing learning rate to 0.0002824295632308349.\n",
      "125/125 [==============================] - 0s 2ms/step - loss: 0.6669 - accuracy: 0.6079 - val_loss: 0.7118 - val_accuracy: 0.5180 - lr: 3.1381e-04\n",
      "Epoch 93/150\n",
      "125/125 [==============================] - 0s 2ms/step - loss: 0.6656 - accuracy: 0.6084 - val_loss: 0.7215 - val_accuracy: 0.5050 - lr: 2.8243e-04\n",
      "Epoch 94/150\n",
      "125/125 [==============================] - 0s 2ms/step - loss: 0.6671 - accuracy: 0.6014 - val_loss: 0.7166 - val_accuracy: 0.4960 - lr: 2.8243e-04\n",
      "Epoch 95/150\n",
      "125/125 [==============================] - 0s 2ms/step - loss: 0.6668 - accuracy: 0.6019 - val_loss: 0.7074 - val_accuracy: 0.5180 - lr: 2.8243e-04\n",
      "Epoch 96/150\n",
      "125/125 [==============================] - 0s 2ms/step - loss: 0.6671 - accuracy: 0.5976 - val_loss: 0.7137 - val_accuracy: 0.5040 - lr: 2.8243e-04\n",
      "Epoch 97/150\n",
      "122/125 [============================>.] - ETA: 0s - loss: 0.6635 - accuracy: 0.6066\n",
      "Epoch 00097: ReduceLROnPlateau reducing learning rate to 0.00025418660952709616.\n",
      "125/125 [==============================] - 0s 2ms/step - loss: 0.6638 - accuracy: 0.6059 - val_loss: 0.7166 - val_accuracy: 0.5170 - lr: 2.8243e-04\n",
      "Epoch 98/150\n",
      "125/125 [==============================] - 0s 2ms/step - loss: 0.6609 - accuracy: 0.6104 - val_loss: 0.7081 - val_accuracy: 0.5190 - lr: 2.5419e-04\n",
      "Epoch 99/150\n",
      "125/125 [==============================] - 0s 2ms/step - loss: 0.6629 - accuracy: 0.6049 - val_loss: 0.7135 - val_accuracy: 0.5140 - lr: 2.5419e-04\n",
      "Epoch 100/150\n",
      "125/125 [==============================] - 0s 2ms/step - loss: 0.6630 - accuracy: 0.6104 - val_loss: 0.7089 - val_accuracy: 0.5140 - lr: 2.5419e-04\n",
      "Epoch 101/150\n",
      "125/125 [==============================] - 0s 2ms/step - loss: 0.6629 - accuracy: 0.6084 - val_loss: 0.7171 - val_accuracy: 0.5130 - lr: 2.5419e-04\n",
      "Epoch 102/150\n",
      "100/125 [=======================>......] - ETA: 0s - loss: 0.6651 - accuracy: 0.6144\n",
      "Epoch 00102: ReduceLROnPlateau reducing learning rate to 0.00022876793809700757.\n",
      "125/125 [==============================] - 0s 2ms/step - loss: 0.6632 - accuracy: 0.6176 - val_loss: 0.7191 - val_accuracy: 0.5100 - lr: 2.5419e-04\n",
      "Epoch 103/150\n",
      "125/125 [==============================] - 0s 2ms/step - loss: 0.6643 - accuracy: 0.6051 - val_loss: 0.7154 - val_accuracy: 0.5100 - lr: 2.2877e-04\n",
      "Epoch 104/150\n",
      "125/125 [==============================] - 0s 2ms/step - loss: 0.6634 - accuracy: 0.6116 - val_loss: 0.7157 - val_accuracy: 0.5090 - lr: 2.2877e-04\n",
      "Epoch 105/150\n",
      "125/125 [==============================] - 0s 2ms/step - loss: 0.6596 - accuracy: 0.6174 - val_loss: 0.7275 - val_accuracy: 0.5240 - lr: 2.2877e-04\n",
      "Epoch 106/150\n",
      "125/125 [==============================] - 0s 2ms/step - loss: 0.6623 - accuracy: 0.6084 - val_loss: 0.7037 - val_accuracy: 0.5240 - lr: 2.2877e-04\n",
      "Epoch 107/150\n",
      "125/125 [==============================] - 0s 2ms/step - loss: 0.6640 - accuracy: 0.6121 - val_loss: 0.7195 - val_accuracy: 0.5190 - lr: 2.2877e-04\n",
      "Epoch 108/150\n",
      "125/125 [==============================] - 0s 2ms/step - loss: 0.6640 - accuracy: 0.6066 - val_loss: 0.7155 - val_accuracy: 0.5140 - lr: 2.2877e-04\n",
      "Epoch 109/150\n",
      "125/125 [==============================] - 0s 2ms/step - loss: 0.6633 - accuracy: 0.6041 - val_loss: 0.7182 - val_accuracy: 0.5060 - lr: 2.2877e-04\n",
      "Epoch 110/150\n",
      "125/125 [==============================] - 0s 2ms/step - loss: 0.6605 - accuracy: 0.6101 - val_loss: 0.7091 - val_accuracy: 0.5240 - lr: 2.2877e-04\n",
      "Epoch 111/150\n",
      " 99/125 [======================>.......] - ETA: 0s - loss: 0.6581 - accuracy: 0.6095\n",
      "Epoch 00111: ReduceLROnPlateau reducing learning rate to 0.00020589114428730683.\n",
      "125/125 [==============================] - 0s 2ms/step - loss: 0.6606 - accuracy: 0.6056 - val_loss: 0.7157 - val_accuracy: 0.5130 - lr: 2.2877e-04\n",
      "Epoch 112/150\n",
      "125/125 [==============================] - 0s 2ms/step - loss: 0.6595 - accuracy: 0.6094 - val_loss: 0.7242 - val_accuracy: 0.5060 - lr: 2.0589e-04\n",
      "Epoch 113/150\n",
      "125/125 [==============================] - 0s 2ms/step - loss: 0.6601 - accuracy: 0.6124 - val_loss: 0.7140 - val_accuracy: 0.5160 - lr: 2.0589e-04\n",
      "Epoch 114/150\n",
      "125/125 [==============================] - 0s 2ms/step - loss: 0.6615 - accuracy: 0.6176 - val_loss: 0.7151 - val_accuracy: 0.5140 - lr: 2.0589e-04\n",
      "Epoch 115/150\n",
      "125/125 [==============================] - 0s 2ms/step - loss: 0.6602 - accuracy: 0.6121 - val_loss: 0.7125 - val_accuracy: 0.5170 - lr: 2.0589e-04\n",
      "Epoch 116/150\n",
      " 99/125 [======================>.......] - ETA: 0s - loss: 0.6594 - accuracy: 0.6092\n",
      "Epoch 00116: ReduceLROnPlateau reducing learning rate to 0.00018530203378759326.\n",
      "125/125 [==============================] - 0s 2ms/step - loss: 0.6593 - accuracy: 0.6134 - val_loss: 0.7219 - val_accuracy: 0.5020 - lr: 2.0589e-04\n",
      "Epoch 117/150\n",
      "125/125 [==============================] - 0s 2ms/step - loss: 0.6614 - accuracy: 0.6114 - val_loss: 0.7159 - val_accuracy: 0.5070 - lr: 1.8530e-04\n",
      "Epoch 118/150\n",
      "125/125 [==============================] - 0s 2ms/step - loss: 0.6585 - accuracy: 0.6156 - val_loss: 0.7111 - val_accuracy: 0.5150 - lr: 1.8530e-04\n",
      "Epoch 119/150\n",
      "125/125 [==============================] - 0s 2ms/step - loss: 0.6579 - accuracy: 0.6146 - val_loss: 0.7170 - val_accuracy: 0.5140 - lr: 1.8530e-04\n",
      "Epoch 120/150\n",
      "125/125 [==============================] - 0s 2ms/step - loss: 0.6564 - accuracy: 0.6116 - val_loss: 0.7077 - val_accuracy: 0.5290 - lr: 1.8530e-04\n",
      "Epoch 121/150\n",
      " 96/125 [======================>.......] - ETA: 0s - loss: 0.6541 - accuracy: 0.6237\n",
      "Epoch 00121: ReduceLROnPlateau reducing learning rate to 0.00016677183302817866.\n",
      "125/125 [==============================] - 0s 2ms/step - loss: 0.6594 - accuracy: 0.6154 - val_loss: 0.7192 - val_accuracy: 0.5170 - lr: 1.8530e-04\n",
      "Epoch 122/150\n",
      "125/125 [==============================] - 0s 2ms/step - loss: 0.6615 - accuracy: 0.6161 - val_loss: 0.7143 - val_accuracy: 0.5040 - lr: 1.6677e-04\n",
      "Epoch 123/150\n",
      "125/125 [==============================] - 0s 2ms/step - loss: 0.6594 - accuracy: 0.6131 - val_loss: 0.7148 - val_accuracy: 0.5180 - lr: 1.6677e-04\n",
      "Epoch 124/150\n",
      "125/125 [==============================] - 0s 2ms/step - loss: 0.6568 - accuracy: 0.6176 - val_loss: 0.7150 - val_accuracy: 0.5150 - lr: 1.6677e-04\n",
      "Epoch 125/150\n",
      "125/125 [==============================] - 0s 2ms/step - loss: 0.6574 - accuracy: 0.6134 - val_loss: 0.7105 - val_accuracy: 0.5240 - lr: 1.6677e-04\n",
      "Epoch 126/150\n",
      "102/125 [=======================>......] - ETA: 0s - loss: 0.6611 - accuracy: 0.6121\n",
      "Epoch 00126: ReduceLROnPlateau reducing learning rate to 0.00015009464841568844.\n",
      "125/125 [==============================] - 0s 2ms/step - loss: 0.6578 - accuracy: 0.6159 - val_loss: 0.7096 - val_accuracy: 0.5270 - lr: 1.6677e-04\n",
      "Epoch 127/150\n",
      "125/125 [==============================] - 0s 2ms/step - loss: 0.6560 - accuracy: 0.6201 - val_loss: 0.7143 - val_accuracy: 0.5170 - lr: 1.5009e-04\n",
      "Epoch 128/150\n",
      "125/125 [==============================] - 0s 2ms/step - loss: 0.6555 - accuracy: 0.6141 - val_loss: 0.7164 - val_accuracy: 0.5190 - lr: 1.5009e-04\n",
      "Epoch 129/150\n",
      "125/125 [==============================] - 0s 2ms/step - loss: 0.6578 - accuracy: 0.6136 - val_loss: 0.7090 - val_accuracy: 0.5220 - lr: 1.5009e-04\n",
      "Epoch 130/150\n",
      "125/125 [==============================] - 0s 2ms/step - loss: 0.6564 - accuracy: 0.6184 - val_loss: 0.7109 - val_accuracy: 0.5230 - lr: 1.5009e-04\n",
      "Epoch 131/150\n",
      " 97/125 [======================>.......] - ETA: 0s - loss: 0.6543 - accuracy: 0.6260\n",
      "Epoch 00131: ReduceLROnPlateau reducing learning rate to 0.0001350851875031367.\n",
      "125/125 [==============================] - 0s 2ms/step - loss: 0.6562 - accuracy: 0.6251 - val_loss: 0.7157 - val_accuracy: 0.5130 - lr: 1.5009e-04\n",
      "Epoch 132/150\n",
      "125/125 [==============================] - 0s 2ms/step - loss: 0.6578 - accuracy: 0.6139 - val_loss: 0.7248 - val_accuracy: 0.5130 - lr: 1.3509e-04\n",
      "Epoch 133/150\n",
      "125/125 [==============================] - 0s 2ms/step - loss: 0.6536 - accuracy: 0.6176 - val_loss: 0.7228 - val_accuracy: 0.5090 - lr: 1.3509e-04\n",
      "Epoch 134/150\n",
      "125/125 [==============================] - 0s 2ms/step - loss: 0.6552 - accuracy: 0.6231 - val_loss: 0.7092 - val_accuracy: 0.5270 - lr: 1.3509e-04\n",
      "Epoch 135/150\n",
      "125/125 [==============================] - 0s 2ms/step - loss: 0.6533 - accuracy: 0.6241 - val_loss: 0.7110 - val_accuracy: 0.5150 - lr: 1.3509e-04\n",
      "Epoch 136/150\n",
      "100/125 [=======================>......] - ETA: 0s - loss: 0.6559 - accuracy: 0.6212\n",
      "Epoch 00136: ReduceLROnPlateau reducing learning rate to 0.00012157666351413355.\n",
      "125/125 [==============================] - 0s 2ms/step - loss: 0.6550 - accuracy: 0.6234 - val_loss: 0.7122 - val_accuracy: 0.5210 - lr: 1.3509e-04\n",
      "Epoch 137/150\n",
      "125/125 [==============================] - 0s 2ms/step - loss: 0.6515 - accuracy: 0.6244 - val_loss: 0.7134 - val_accuracy: 0.5180 - lr: 1.2158e-04\n",
      "Epoch 138/150\n",
      "125/125 [==============================] - 0s 2ms/step - loss: 0.6564 - accuracy: 0.6201 - val_loss: 0.7195 - val_accuracy: 0.5230 - lr: 1.2158e-04\n",
      "Epoch 139/150\n",
      "125/125 [==============================] - 0s 2ms/step - loss: 0.6563 - accuracy: 0.6194 - val_loss: 0.7194 - val_accuracy: 0.5180 - lr: 1.2158e-04\n",
      "Epoch 140/150\n",
      "125/125 [==============================] - 0s 2ms/step - loss: 0.6510 - accuracy: 0.6196 - val_loss: 0.7108 - val_accuracy: 0.5200 - lr: 1.2158e-04\n",
      "Epoch 141/150\n",
      "104/125 [=======================>......] - ETA: 0s - loss: 0.6517 - accuracy: 0.6223\n",
      "Epoch 00141: ReduceLROnPlateau reducing learning rate to 0.00010941899454337544.\n",
      "125/125 [==============================] - 0s 2ms/step - loss: 0.6521 - accuracy: 0.6241 - val_loss: 0.7231 - val_accuracy: 0.5060 - lr: 1.2158e-04\n",
      "Epoch 142/150\n",
      "125/125 [==============================] - 0s 2ms/step - loss: 0.6505 - accuracy: 0.6324 - val_loss: 0.7180 - val_accuracy: 0.5130 - lr: 1.0942e-04\n",
      "Epoch 143/150\n",
      "125/125 [==============================] - 0s 2ms/step - loss: 0.6490 - accuracy: 0.6316 - val_loss: 0.7085 - val_accuracy: 0.5270 - lr: 1.0942e-04\n",
      "Epoch 144/150\n",
      "125/125 [==============================] - 0s 2ms/step - loss: 0.6527 - accuracy: 0.6204 - val_loss: 0.7216 - val_accuracy: 0.5120 - lr: 1.0942e-04\n",
      "Epoch 145/150\n",
      "125/125 [==============================] - 0s 2ms/step - loss: 0.6509 - accuracy: 0.6239 - val_loss: 0.7144 - val_accuracy: 0.5300 - lr: 1.0942e-04\n",
      "Epoch 146/150\n",
      "105/125 [========================>.....] - ETA: 0s - loss: 0.6514 - accuracy: 0.6295\n",
      "Epoch 00146: ReduceLROnPlateau reducing learning rate to 9.847709443420172e-05.\n",
      "125/125 [==============================] - 0s 2ms/step - loss: 0.6529 - accuracy: 0.6261 - val_loss: 0.7204 - val_accuracy: 0.5170 - lr: 1.0942e-04\n",
      "Epoch 147/150\n",
      "125/125 [==============================] - 0s 2ms/step - loss: 0.6498 - accuracy: 0.6271 - val_loss: 0.7168 - val_accuracy: 0.5300 - lr: 9.8477e-05\n",
      "Epoch 148/150\n",
      "125/125 [==============================] - 0s 2ms/step - loss: 0.6553 - accuracy: 0.6264 - val_loss: 0.7148 - val_accuracy: 0.5140 - lr: 9.8477e-05\n",
      "Epoch 149/150\n",
      "125/125 [==============================] - 0s 2ms/step - loss: 0.6487 - accuracy: 0.6301 - val_loss: 0.7212 - val_accuracy: 0.5200 - lr: 9.8477e-05\n",
      "Epoch 150/150\n",
      "125/125 [==============================] - 0s 2ms/step - loss: 0.6495 - accuracy: 0.6276 - val_loss: 0.7180 - val_accuracy: 0.5140 - lr: 9.8477e-05\n"
     ]
    }
   ],
   "source": [
    "from keras import regularizers\n",
    "\n",
    "model = Sequential()\n",
    "\n",
    "# model.add(Dropout(0.2))\n",
    "model.add(Dense(64, input_dim=30, kernel_regularizer='l2'))# , activity_regularizer= ))#regularizers.l2(0.01)))#, kernel_initializer='uniform', bias_initializer='ones')) #zeros, ones, uniform\n",
    "model.add(BatchNormalization())\n",
    "model.add(LeakyReLU())\n",
    "model.add(Dropout(0.2))\n",
    "\n",
    "model.add(Dense(16, kernel_regularizer='l2'))# , activity_regularizer=regularizers.l2(0.01))) #regularizers.l1_l2(0.01,0.01)))\n",
    "model.add(BatchNormalization())\n",
    "model.add(LeakyReLU())\n",
    "model.add(Dropout(0.1))\n",
    "\n",
    "model.add(Dense(2))\n",
    "model.add(Activation('softmax'))\n",
    "\n",
    "optimizer = Adam()\n",
    "\n",
    "reduce_lr = ReduceLROnPlateau(monitor='val_loss', factor=0.9, patience=5, min_lr=0.000001, verbose=1)\n",
    "model.compile(optimizer=optimizer,\n",
    "              loss='categorical_crossentropy',\n",
    "              metrics=['accuracy'])\n",
    "\n",
    "history_3 = model.fit(X_train, Y_train,\n",
    "                  #  nb_epoch=150,\n",
    "                  epochs=150,\n",
    "                   batch_size=32,\n",
    "                   verbose=1,\n",
    "                   validation_data=(X_test, Y_test),\n",
    "                   shuffle=True,\n",
    "                   callbacks=[reduce_lr])"
   ]
  },
  {
   "cell_type": "code",
   "execution_count": 174,
   "metadata": {
    "colab": {
     "base_uri": "https://localhost:8080/",
     "height": 312
    },
    "colab_type": "code",
    "id": "aUk6RNarmAjf",
    "outputId": "53e32b46-5019-4d7f-e9af-c30e3fd50d9b"
   },
   "outputs": [
    {
     "data": {
      "text/plain": [
       "<matplotlib.legend.Legend at 0x7f6c5f4aa898>"
      ]
     },
     "execution_count": 174,
     "metadata": {
      "tags": []
     },
     "output_type": "execute_result"
    },
    {
     "data": {
      "image/png": "[encoded data removed]",
      "text/plain": [
       "<Figure size 432x288 with 1 Axes>"
      ]
     },
     "metadata": {
      "needs_background": "light",
      "tags": []
     },
     "output_type": "display_data"
    }
   ],
   "source": [
    "plt.figure()\n",
    "plt.plot(history_3.history['loss'])\n",
    "plt.plot(history_3.history['val_loss'])\n",
    "plt.title('model loss')\n",
    "plt.ylabel('loss')\n",
    "plt.xlabel('epoch')\n",
    "plt.legend(['train', 'test'], loc='best')"
   ]
  },
  {
   "cell_type": "code",
   "execution_count": 161,
   "metadata": {
    "colab": {
     "base_uri": "https://localhost:8080/",
     "height": 312
    },
    "colab_type": "code",
    "id": "aWgLg93qCn-q",
    "outputId": "90965447-ed47-469a-cdd3-25200a377958"
   },
   "outputs": [
    {
     "data": {
      "text/plain": [
       "<matplotlib.legend.Legend at 0x7f6c62baef60>"
      ]
     },
     "execution_count": 161,
     "metadata": {
      "tags": []
     },
     "output_type": "execute_result"
    },
    {
     "data": {
      "image/png": "[encoded data removed]",
      "text/plain": [
       "<Figure size 432x288 with 1 Axes>"
      ]
     },
     "metadata": {
      "needs_background": "light",
      "tags": []
     },
     "output_type": "display_data"
    }
   ],
   "source": [
    "plt.figure()\n",
    "plt.plot(history_3.history['accuracy'])\n",
    "plt.plot(history_3.history['val_accuracy'])\n",
    "plt.title('model accuracy')\n",
    "plt.ylabel('acc')\n",
    "plt.xlabel('epoch')\n",
    "plt.legend(['train', 'test'], loc='best')"
   ]
  },
  {
   "cell_type": "markdown",
   "metadata": {
    "colab_type": "text",
    "id": "Sv9Um5B2lY6J"
   },
   "source": [
    "From the above Model Accuracy graph, we can observe that the train accuracy went upto 62.5 and test accuracy fluctuated around 49 to 53. We could see that regularizations included helped the model to reduce overfitting and test accuracy seems to near the training accuracy, which implies that the variance is reduced by limiting overfitting"
   ]
  },
  {
   "cell_type": "code",
   "execution_count": 177,
   "metadata": {
    "colab": {
     "base_uri": "https://localhost:8080/",
     "height": 312
    },
    "colab_type": "code",
    "id": "GA-l3eJ3oYos",
    "outputId": "4b274c4f-0161-4957-b169-75b8ca7fd409"
   },
   "outputs": [
    {
     "data": {
      "text/plain": [
       "<matplotlib.legend.Legend at 0x7f6c5f1dad68>"
      ]
     },
     "execution_count": 177,
     "metadata": {
      "tags": []
     },
     "output_type": "execute_result"
    },
    {
     "data": {
      "image/png": "[encoded data removed]",
      "text/plain": [
       "<Figure size 432x288 with 1 Axes>"
      ]
     },
     "metadata": {
      "needs_background": "light",
      "tags": []
     },
     "output_type": "display_data"
    }
   ],
   "source": [
    "plt.figure()\n",
    "plt.plot(history.history['accuracy'], label = \"train_acc_MLP_1\")\n",
    "plt.plot(history.history['val_accuracy'], label = \"test_acc_MLP_1\")\n",
    "\n",
    "plt.plot(history_2.history['accuracy'], label = \"train_acc_MLP_2\")\n",
    "plt.plot(history_2.history['val_accuracy'], label = \"test_acc_MLP_2\")\n",
    "\n",
    "plt.plot(history_3.history['accuracy'], label = \"train_acc_MLP_3\")\n",
    "plt.plot(history_3.history['val_accuracy'], label = \"test_acc_MLP_3\")\n",
    "plt.title('model accuracy')\n",
    "plt.ylabel('acc')\n",
    "plt.xlabel('epoch')\n",
    "plt.legend(loc='best')"
   ]
  },
  {
   "cell_type": "markdown",
   "metadata": {
    "colab_type": "text",
    "id": "km9IhI74o9cn"
   },
   "source": [
    "We can observe that effect of regularization on the training accuracy and better accuracy for test in MLP 3"
   ]
  },
  {
   "cell_type": "markdown",
   "metadata": {
    "colab_type": "text",
    "id": "GgpINnDzhcMr"
   },
   "source": [
    "--------"
   ]
  },
  {
   "cell_type": "markdown",
   "metadata": {
    "colab_type": "text",
    "id": "5jbsktEghcIM"
   },
   "source": [
    "## 2. Applying LSTM architecture to predict the value:\n",
    "## 3. Along with Accuracy and Loss graphs"
   ]
  },
  {
   "cell_type": "code",
   "execution_count": 163,
   "metadata": {
    "colab": {},
    "colab_type": "code",
    "id": "xv3mWnAcZtLG"
   },
   "outputs": [],
   "source": [
    "from keras.layers import LSTM\n",
    "from time import time"
   ]
  },
  {
   "cell_type": "code",
   "execution_count": 168,
   "metadata": {
    "colab": {
     "base_uri": "https://localhost:8080/",
     "height": 34
    },
    "colab_type": "code",
    "id": "NJxW3EpRZw7K",
    "outputId": "ffdce072-8cbe-4cc5-c8c0-650ed886c1a9"
   },
   "outputs": [
    {
     "name": "stdout",
     "output_type": "stream",
     "text": [
      "(3996, 30, 1)\n"
     ]
    }
   ],
   "source": [
    "X_train = np.reshape(X_train, (X_train.shape[0], X_train.shape[1], 1))\n",
    "X_test = np.reshape(X_test, (X_test.shape[0], X_test.shape[1], 1))\n",
    "\n",
    "print(X_train.shape)"
   ]
  },
  {
   "cell_type": "markdown",
   "metadata": {
    "colab_type": "text",
    "id": "2ETrPtjLnoIE"
   },
   "source": [
    "Training and Testing data has been reshaped to make it compatible to LSTM"
   ]
  },
  {
   "cell_type": "code",
   "execution_count": 169,
   "metadata": {
    "colab": {
     "base_uri": "https://localhost:8080/",
     "height": 391
    },
    "colab_type": "code",
    "id": "mFtbgZg8Zyfv",
    "outputId": "68c9afc5-0683-4080-fd8f-470c9940823b"
   },
   "outputs": [
    {
     "name": "stdout",
     "output_type": "stream",
     "text": [
      "Model: \"sequential_13\"\n",
      "_________________________________________________________________\n",
      "Layer (type)                 Output Shape              Param #   \n",
      "=================================================================\n",
      "lstm_2 (LSTM)                (None, 30, 64)            16896     \n",
      "_________________________________________________________________\n",
      "dropout_6 (Dropout)          (None, 30, 64)            0         \n",
      "_________________________________________________________________\n",
      "lstm_3 (LSTM)                (None, 30, 64)            33024     \n",
      "_________________________________________________________________\n",
      "dropout_7 (Dropout)          (None, 30, 64)            0         \n",
      "_________________________________________________________________\n",
      "flatten_1 (Flatten)          (None, 1920)              0         \n",
      "_________________________________________________________________\n",
      "dense_29 (Dense)             (None, 2)                 3842      \n",
      "_________________________________________________________________\n",
      "activation_11 (Activation)   (None, 2)                 0         \n",
      "=================================================================\n",
      "Total params: 53,762\n",
      "Trainable params: 53,762\n",
      "Non-trainable params: 0\n",
      "_________________________________________________________________\n"
     ]
    }
   ],
   "source": [
    "model = Sequential()\n",
    "\n",
    "model.add(LSTM(64, return_sequences=True, input_shape=(X_train.shape[1],1)))\n",
    "model.add(Dropout(0.1))\n",
    "\n",
    "model.add(LSTM(64, return_sequences=True)) #, kernel_regularizer='l2')) #activity_regularizer=  regularizers.l2(0.01)))\n",
    "model.add(Dropout(0.2))\n",
    "\n",
    "# model.add(LSTM(64, return_sequences=True)) #, kernel_regularizer='l2'))#activity_regularizer=  regularizers.l2(0.01)))\n",
    "# model.add(Dropout(0.2))\n",
    "\n",
    "model.add(Flatten())\n",
    "\n",
    "model.add(Dense(2))\n",
    "model.add(Activation('softmax'))\n",
    "\n",
    "optimizer=Adam()\n",
    "\n",
    "model.summary()"
   ]
  },
  {
   "cell_type": "code",
   "execution_count": 170,
   "metadata": {
    "colab": {
     "base_uri": "https://localhost:8080/",
     "height": 1000
    },
    "colab_type": "code",
    "id": "V24FBZD9Z1F8",
    "outputId": "251747c6-357d-46b6-e33c-7008a8aadf87"
   },
   "outputs": [
    {
     "name": "stdout",
     "output_type": "stream",
     "text": [
      "Epoch 1/50\n",
      "125/125 [==============================] - 5s 36ms/step - loss: 0.6783 - accuracy: 0.5866 - val_loss: 0.7104 - val_accuracy: 0.5160 - lr: 0.0010\n",
      "Epoch 2/50\n",
      "125/125 [==============================] - 4s 31ms/step - loss: 0.6743 - accuracy: 0.5961 - val_loss: 0.7258 - val_accuracy: 0.5200 - lr: 0.0010\n",
      "Epoch 3/50\n",
      "125/125 [==============================] - 4s 31ms/step - loss: 0.6753 - accuracy: 0.5923 - val_loss: 0.6979 - val_accuracy: 0.5050 - lr: 0.0010\n",
      "Epoch 4/50\n",
      "125/125 [==============================] - 4s 31ms/step - loss: 0.6748 - accuracy: 0.5958 - val_loss: 0.7125 - val_accuracy: 0.5050 - lr: 0.0010\n",
      "Epoch 5/50\n",
      "125/125 [==============================] - 4s 30ms/step - loss: 0.6737 - accuracy: 0.5926 - val_loss: 0.7031 - val_accuracy: 0.5040 - lr: 0.0010\n",
      "Epoch 6/50\n",
      "125/125 [==============================] - 4s 31ms/step - loss: 0.6748 - accuracy: 0.5951 - val_loss: 0.7029 - val_accuracy: 0.5150 - lr: 0.0010\n",
      "Epoch 7/50\n",
      "125/125 [==============================] - 4s 31ms/step - loss: 0.6731 - accuracy: 0.5953 - val_loss: 0.7023 - val_accuracy: 0.5100 - lr: 0.0010\n",
      "Epoch 8/50\n",
      "125/125 [==============================] - ETA: 0s - loss: 0.6738 - accuracy: 0.5926\n",
      "Epoch 00008: ReduceLROnPlateau reducing learning rate to 0.0009000000427477062.\n",
      "125/125 [==============================] - 4s 31ms/step - loss: 0.6738 - accuracy: 0.5926 - val_loss: 0.7082 - val_accuracy: 0.5050 - lr: 0.0010\n",
      "Epoch 9/50\n",
      "125/125 [==============================] - 4s 31ms/step - loss: 0.6729 - accuracy: 0.5953 - val_loss: 0.7019 - val_accuracy: 0.5160 - lr: 9.0000e-04\n",
      "Epoch 10/50\n",
      "125/125 [==============================] - 4s 31ms/step - loss: 0.6722 - accuracy: 0.5921 - val_loss: 0.7060 - val_accuracy: 0.5170 - lr: 9.0000e-04\n",
      "Epoch 11/50\n",
      "125/125 [==============================] - 4s 31ms/step - loss: 0.6717 - accuracy: 0.5941 - val_loss: 0.7123 - val_accuracy: 0.5090 - lr: 9.0000e-04\n",
      "Epoch 12/50\n",
      "125/125 [==============================] - 4s 32ms/step - loss: 0.6718 - accuracy: 0.5943 - val_loss: 0.7128 - val_accuracy: 0.5100 - lr: 9.0000e-04\n",
      "Epoch 13/50\n",
      "125/125 [==============================] - ETA: 0s - loss: 0.6725 - accuracy: 0.5963\n",
      "Epoch 00013: ReduceLROnPlateau reducing learning rate to 0.0008100000384729356.\n",
      "125/125 [==============================] - 4s 31ms/step - loss: 0.6725 - accuracy: 0.5963 - val_loss: 0.7101 - val_accuracy: 0.5220 - lr: 9.0000e-04\n",
      "Epoch 14/50\n",
      "125/125 [==============================] - 4s 31ms/step - loss: 0.6718 - accuracy: 0.5926 - val_loss: 0.7093 - val_accuracy: 0.5170 - lr: 8.1000e-04\n",
      "Epoch 15/50\n",
      "125/125 [==============================] - 4s 32ms/step - loss: 0.6707 - accuracy: 0.5926 - val_loss: 0.7179 - val_accuracy: 0.5080 - lr: 8.1000e-04\n",
      "Epoch 16/50\n",
      "125/125 [==============================] - 4s 31ms/step - loss: 0.6700 - accuracy: 0.5948 - val_loss: 0.7034 - val_accuracy: 0.5150 - lr: 8.1000e-04\n",
      "Epoch 17/50\n",
      "125/125 [==============================] - 4s 31ms/step - loss: 0.6707 - accuracy: 0.5938 - val_loss: 0.7060 - val_accuracy: 0.5200 - lr: 8.1000e-04\n",
      "Epoch 18/50\n",
      "125/125 [==============================] - ETA: 0s - loss: 0.6708 - accuracy: 0.5946\n",
      "Epoch 00018: ReduceLROnPlateau reducing learning rate to 0.0007290000503417104.\n",
      "125/125 [==============================] - 4s 31ms/step - loss: 0.6708 - accuracy: 0.5946 - val_loss: 0.7125 - val_accuracy: 0.5220 - lr: 8.1000e-04\n",
      "Epoch 19/50\n",
      "125/125 [==============================] - 4s 31ms/step - loss: 0.6682 - accuracy: 0.5963 - val_loss: 0.7095 - val_accuracy: 0.5020 - lr: 7.2900e-04\n",
      "Epoch 20/50\n",
      "125/125 [==============================] - 4s 31ms/step - loss: 0.6698 - accuracy: 0.5901 - val_loss: 0.7126 - val_accuracy: 0.5200 - lr: 7.2900e-04\n",
      "Epoch 21/50\n",
      "125/125 [==============================] - 4s 31ms/step - loss: 0.6681 - accuracy: 0.5953 - val_loss: 0.7115 - val_accuracy: 0.5170 - lr: 7.2900e-04\n",
      "Epoch 22/50\n",
      "125/125 [==============================] - 4s 31ms/step - loss: 0.6667 - accuracy: 0.5893 - val_loss: 0.7117 - val_accuracy: 0.5170 - lr: 7.2900e-04\n",
      "Epoch 23/50\n",
      "125/125 [==============================] - ETA: 0s - loss: 0.6675 - accuracy: 0.6011\n",
      "Epoch 00023: ReduceLROnPlateau reducing learning rate to 0.0006561000715009868.\n",
      "125/125 [==============================] - 4s 31ms/step - loss: 0.6675 - accuracy: 0.6011 - val_loss: 0.7079 - val_accuracy: 0.5180 - lr: 7.2900e-04\n",
      "Epoch 24/50\n",
      "125/125 [==============================] - 4s 31ms/step - loss: 0.6659 - accuracy: 0.5958 - val_loss: 0.7083 - val_accuracy: 0.5200 - lr: 6.5610e-04\n",
      "Epoch 25/50\n",
      "125/125 [==============================] - 4s 31ms/step - loss: 0.6630 - accuracy: 0.6044 - val_loss: 0.7407 - val_accuracy: 0.5140 - lr: 6.5610e-04\n",
      "Epoch 26/50\n",
      "125/125 [==============================] - 4s 31ms/step - loss: 0.6636 - accuracy: 0.5986 - val_loss: 0.7118 - val_accuracy: 0.5030 - lr: 6.5610e-04\n",
      "Epoch 27/50\n",
      "125/125 [==============================] - 4s 31ms/step - loss: 0.6612 - accuracy: 0.6041 - val_loss: 0.7151 - val_accuracy: 0.5100 - lr: 6.5610e-04\n",
      "Epoch 28/50\n",
      "125/125 [==============================] - ETA: 0s - loss: 0.6590 - accuracy: 0.6074\n",
      "Epoch 00028: ReduceLROnPlateau reducing learning rate to 0.0005904900433961303.\n",
      "125/125 [==============================] - 4s 31ms/step - loss: 0.6590 - accuracy: 0.6074 - val_loss: 0.7175 - val_accuracy: 0.5090 - lr: 6.5610e-04\n",
      "Epoch 29/50\n",
      "125/125 [==============================] - 4s 31ms/step - loss: 0.6564 - accuracy: 0.6084 - val_loss: 0.7171 - val_accuracy: 0.5180 - lr: 5.9049e-04\n",
      "Epoch 30/50\n",
      "125/125 [==============================] - 4s 30ms/step - loss: 0.6570 - accuracy: 0.6134 - val_loss: 0.7115 - val_accuracy: 0.5020 - lr: 5.9049e-04\n",
      "Epoch 31/50\n",
      "125/125 [==============================] - 4s 31ms/step - loss: 0.6540 - accuracy: 0.6161 - val_loss: 0.7307 - val_accuracy: 0.5050 - lr: 5.9049e-04\n",
      "Epoch 32/50\n",
      "125/125 [==============================] - 4s 31ms/step - loss: 0.6530 - accuracy: 0.6109 - val_loss: 0.7231 - val_accuracy: 0.5150 - lr: 5.9049e-04\n",
      "Epoch 33/50\n",
      "125/125 [==============================] - ETA: 0s - loss: 0.6523 - accuracy: 0.6216\n",
      "Epoch 00033: ReduceLROnPlateau reducing learning rate to 0.0005314410547725857.\n",
      "125/125 [==============================] - 4s 32ms/step - loss: 0.6523 - accuracy: 0.6216 - val_loss: 0.7197 - val_accuracy: 0.4990 - lr: 5.9049e-04\n",
      "Epoch 34/50\n",
      "125/125 [==============================] - 4s 31ms/step - loss: 0.6502 - accuracy: 0.6136 - val_loss: 0.7152 - val_accuracy: 0.5200 - lr: 5.3144e-04\n",
      "Epoch 35/50\n",
      "125/125 [==============================] - 4s 31ms/step - loss: 0.6457 - accuracy: 0.6254 - val_loss: 0.7186 - val_accuracy: 0.5000 - lr: 5.3144e-04\n",
      "Epoch 36/50\n",
      "125/125 [==============================] - 4s 31ms/step - loss: 0.6455 - accuracy: 0.6281 - val_loss: 0.7288 - val_accuracy: 0.5140 - lr: 5.3144e-04\n",
      "Epoch 37/50\n",
      "125/125 [==============================] - 4s 31ms/step - loss: 0.6427 - accuracy: 0.6291 - val_loss: 0.7288 - val_accuracy: 0.4960 - lr: 5.3144e-04\n",
      "Epoch 38/50\n",
      "125/125 [==============================] - ETA: 0s - loss: 0.6399 - accuracy: 0.6351\n",
      "Epoch 00038: ReduceLROnPlateau reducing learning rate to 0.00047829695977270604.\n",
      "125/125 [==============================] - 4s 30ms/step - loss: 0.6399 - accuracy: 0.6351 - val_loss: 0.7281 - val_accuracy: 0.5160 - lr: 5.3144e-04\n",
      "Epoch 39/50\n",
      "125/125 [==============================] - 4s 31ms/step - loss: 0.6391 - accuracy: 0.6436 - val_loss: 0.7330 - val_accuracy: 0.4920 - lr: 4.7830e-04\n",
      "Epoch 40/50\n",
      "125/125 [==============================] - 4s 30ms/step - loss: 0.6367 - accuracy: 0.6319 - val_loss: 0.7438 - val_accuracy: 0.5050 - lr: 4.7830e-04\n",
      "Epoch 41/50\n",
      "125/125 [==============================] - 4s 31ms/step - loss: 0.6360 - accuracy: 0.6399 - val_loss: 0.7469 - val_accuracy: 0.5050 - lr: 4.7830e-04\n",
      "Epoch 42/50\n",
      "125/125 [==============================] - 4s 31ms/step - loss: 0.6334 - accuracy: 0.6409 - val_loss: 0.7533 - val_accuracy: 0.5040 - lr: 4.7830e-04\n",
      "Epoch 43/50\n",
      "125/125 [==============================] - ETA: 0s - loss: 0.6319 - accuracy: 0.6439\n",
      "Epoch 00043: ReduceLROnPlateau reducing learning rate to 0.0004304672533180565.\n",
      "125/125 [==============================] - 4s 31ms/step - loss: 0.6319 - accuracy: 0.6439 - val_loss: 0.7474 - val_accuracy: 0.4910 - lr: 4.7830e-04\n",
      "Epoch 44/50\n",
      "125/125 [==============================] - 4s 31ms/step - loss: 0.6297 - accuracy: 0.6411 - val_loss: 0.7520 - val_accuracy: 0.5010 - lr: 4.3047e-04\n",
      "Epoch 45/50\n",
      "125/125 [==============================] - 4s 31ms/step - loss: 0.6252 - accuracy: 0.6502 - val_loss: 0.7804 - val_accuracy: 0.4920 - lr: 4.3047e-04\n",
      "Epoch 46/50\n",
      "125/125 [==============================] - 4s 31ms/step - loss: 0.6248 - accuracy: 0.6481 - val_loss: 0.7646 - val_accuracy: 0.5010 - lr: 4.3047e-04\n",
      "Epoch 47/50\n",
      "125/125 [==============================] - 4s 31ms/step - loss: 0.6243 - accuracy: 0.6471 - val_loss: 0.7593 - val_accuracy: 0.4960 - lr: 4.3047e-04\n",
      "Epoch 48/50\n",
      "125/125 [==============================] - ETA: 0s - loss: 0.6224 - accuracy: 0.6474\n",
      "Epoch 00048: ReduceLROnPlateau reducing learning rate to 0.00038742052274756136.\n",
      "125/125 [==============================] - 4s 30ms/step - loss: 0.6224 - accuracy: 0.6474 - val_loss: 0.7602 - val_accuracy: 0.4940 - lr: 4.3047e-04\n",
      "Epoch 49/50\n",
      "125/125 [==============================] - 4s 32ms/step - loss: 0.6162 - accuracy: 0.6547 - val_loss: 0.7882 - val_accuracy: 0.5080 - lr: 3.8742e-04\n",
      "Epoch 50/50\n",
      "125/125 [==============================] - 4s 31ms/step - loss: 0.6188 - accuracy: 0.6564 - val_loss: 0.7620 - val_accuracy: 0.4860 - lr: 3.8742e-04\n",
      "\n",
      " Elapsed time: 199.338 seconds\n"
     ]
    }
   ],
   "source": [
    "reduce_lr = ReduceLROnPlateau(monitor='val_loss', factor=0.9, patience=5, min_lr=0.000001, verbose=1)\n",
    "model.compile(optimizer=optimizer,\n",
    "              loss='categorical_crossentropy',\n",
    "              metrics=['accuracy'])\n",
    "\n",
    "startTime = time()\n",
    "history = model.fit(X_train, Y_train,\n",
    "                   epochs=50,\n",
    "                   batch_size=32,\n",
    "                   verbose=1,\n",
    "                   validation_data=(X_test, Y_test),\n",
    "                   shuffle=True,\n",
    "                   callbacks=[reduce_lr])\n",
    "\n",
    "print('\\n Elapsed time: %.3f seconds' % (time() - startTime))"
   ]
  },
  {
   "cell_type": "code",
   "execution_count": 172,
   "metadata": {
    "colab": {
     "base_uri": "https://localhost:8080/",
     "height": 312
    },
    "colab_type": "code",
    "id": "K7WRLS0xZ7KG",
    "outputId": "bd0bc052-db38-48e6-eb8d-7103d09eb3a4"
   },
   "outputs": [
    {
     "data": {
      "text/plain": [
       "<matplotlib.legend.Legend at 0x7f6c5f45d400>"
      ]
     },
     "execution_count": 172,
     "metadata": {
      "tags": []
     },
     "output_type": "execute_result"
    },
    {
     "data": {
      "image/png": "[encoded data removed]",
      "text/plain": [
       "<Figure size 432x288 with 1 Axes>"
      ]
     },
     "metadata": {
      "needs_background": "light",
      "tags": []
     },
     "output_type": "display_data"
    }
   ],
   "source": [
    "plt.figure()\n",
    "plt.plot(history.history['loss'])\n",
    "plt.plot(history.history['val_loss'])\n",
    "plt.title('model loss')\n",
    "plt.ylabel('loss')\n",
    "plt.xlabel('epoch')\n",
    "plt.legend(['train', 'test'], loc='best')"
   ]
  },
  {
   "cell_type": "code",
   "execution_count": 173,
   "metadata": {
    "colab": {
     "base_uri": "https://localhost:8080/",
     "height": 312
    },
    "colab_type": "code",
    "id": "sIzcMxUPaB2a",
    "outputId": "41df7c15-88cf-4fc4-c2a7-6cd44e1d8e78"
   },
   "outputs": [
    {
     "data": {
      "text/plain": [
       "<matplotlib.legend.Legend at 0x7f6c5f5b64a8>"
      ]
     },
     "execution_count": 173,
     "metadata": {
      "tags": []
     },
     "output_type": "execute_result"
    },
    {
     "data": {
      "image/png": "[encoded data removed]",
      "text/plain": [
       "<Figure size 432x288 with 1 Axes>"
      ]
     },
     "metadata": {
      "needs_background": "light",
      "tags": []
     },
     "output_type": "display_data"
    }
   ],
   "source": [
    "plt.figure()\n",
    "plt.plot(history.history['accuracy'])\n",
    "plt.plot(history.history['val_accuracy'])\n",
    "plt.title('model accuracy')\n",
    "plt.ylabel('acc')\n",
    "plt.xlabel('epoch')\n",
    "plt.legend(['train', 'test'], loc='best')"
   ]
  },
  {
   "cell_type": "markdown",
   "metadata": {
    "colab_type": "text",
    "id": "AhE66yFKn_ES"
   },
   "source": [
    "We can observe that test accuracy varied between 49 to 52.5 and training accuracy increasing from 58 to 65."
   ]
  },
  {
   "cell_type": "markdown",
   "metadata": {
    "colab_type": "text",
    "id": "Dl9B70hqpNfk"
   },
   "source": [
    "## 4.  Results of predicting the values using different deep learning structures:"
   ]
  },
  {
   "cell_type": "markdown",
   "metadata": {
    "colab_type": "text",
    "id": "SMsRzZzMpUlJ"
   },
   "source": [
    "From the results obtained from LSTM and various MLP architectures, we can derive that MLP architectures are more likely overfitting the model compared to LSTM. And investing time on getting better test Accuracy of the LSTM model looks feasible than MLP architectures."
   ]
  },
  {
   "cell_type": "code",
   "execution_count": null,
   "metadata": {
    "colab": {},
    "colab_type": "code",
    "id": "OXrnEDQ4pZnz"
   },
   "outputs": [],
   "source": []
  }
 ],
 "metadata": {
  "colab": {
   "collapsed_sections": [],
   "name": "project2_part2.ipynb",
   "provenance": []
  },
  "kernelspec": {
   "display_name": "Python 3",
   "language": "python",
   "name": "python3"
  },
  "language_info": {
   "codemirror_mode": {
    "name": "ipython",
    "version": 3
   },
   "file_extension": ".py",
   "mimetype": "text/x-python",
   "name": "python",
   "nbconvert_exporter": "python",
   "pygments_lexer": "ipython3",
   "version": "3.8.3"
  }
 },
 "nbformat": 4,
 "nbformat_minor": 1
}
